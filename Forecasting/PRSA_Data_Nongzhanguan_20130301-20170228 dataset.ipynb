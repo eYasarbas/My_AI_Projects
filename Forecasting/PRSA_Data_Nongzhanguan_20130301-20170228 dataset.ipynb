{
 "cells": [
  {
   "cell_type": "code",
   "execution_count": 1,
   "id": "426f8e9f",
   "metadata": {},
   "outputs": [],
   "source": [
    "import pandas as pd\n",
    "import numpy as np\n",
    "import matplotlib.pyplot as plt\n",
    "from sklearn.preprocessing import MinMaxScaler\n",
    "from keras.models import Sequential\n",
    "from keras.layers import LSTM, Dense, Dropout\n",
    "from keras.models import Sequential\n",
    "import matplotlib.pyplot as plt\n",
    "import pandas as pd\n",
    "from sklearn.preprocessing import MinMaxScaler"
   ]
  },
  {
   "cell_type": "code",
   "execution_count": 2,
   "id": "9a2c2551",
   "metadata": {},
   "outputs": [],
   "source": [
    "df=pd.read_csv(\"C:/Users/denem/OneDrive/Belgeler/AI/PRSA_Data_Nongzhanguan_20130301-20170228.csv\")"
   ]
  },
  {
   "cell_type": "code",
   "execution_count": 3,
   "id": "b7b533b0",
   "metadata": {
    "scrolled": true
   },
   "outputs": [
    {
     "data": {
      "text/html": [
       "<div>\n",
       "<style scoped>\n",
       "    .dataframe tbody tr th:only-of-type {\n",
       "        vertical-align: middle;\n",
       "    }\n",
       "\n",
       "    .dataframe tbody tr th {\n",
       "        vertical-align: top;\n",
       "    }\n",
       "\n",
       "    .dataframe thead th {\n",
       "        text-align: right;\n",
       "    }\n",
       "</style>\n",
       "<table border=\"1\" class=\"dataframe\">\n",
       "  <thead>\n",
       "    <tr style=\"text-align: right;\">\n",
       "      <th></th>\n",
       "      <th>No</th>\n",
       "      <th>year</th>\n",
       "      <th>month</th>\n",
       "      <th>day</th>\n",
       "      <th>hour</th>\n",
       "      <th>PM2.5</th>\n",
       "      <th>PM10</th>\n",
       "      <th>SO2</th>\n",
       "      <th>NO2</th>\n",
       "      <th>CO</th>\n",
       "      <th>O3</th>\n",
       "      <th>TEMP</th>\n",
       "      <th>PRES</th>\n",
       "      <th>DEWP</th>\n",
       "      <th>RAIN</th>\n",
       "      <th>wd</th>\n",
       "      <th>WSPM</th>\n",
       "      <th>station</th>\n",
       "    </tr>\n",
       "  </thead>\n",
       "  <tbody>\n",
       "    <tr>\n",
       "      <th>0</th>\n",
       "      <td>1</td>\n",
       "      <td>2013</td>\n",
       "      <td>3</td>\n",
       "      <td>1</td>\n",
       "      <td>0</td>\n",
       "      <td>5.0</td>\n",
       "      <td>14.0</td>\n",
       "      <td>4.0</td>\n",
       "      <td>12.0</td>\n",
       "      <td>200.0</td>\n",
       "      <td>85.0</td>\n",
       "      <td>-0.5</td>\n",
       "      <td>1024.5</td>\n",
       "      <td>-21.4</td>\n",
       "      <td>0.0</td>\n",
       "      <td>NNW</td>\n",
       "      <td>5.7</td>\n",
       "      <td>Nongzhanguan</td>\n",
       "    </tr>\n",
       "    <tr>\n",
       "      <th>1</th>\n",
       "      <td>2</td>\n",
       "      <td>2013</td>\n",
       "      <td>3</td>\n",
       "      <td>1</td>\n",
       "      <td>1</td>\n",
       "      <td>8.0</td>\n",
       "      <td>12.0</td>\n",
       "      <td>6.0</td>\n",
       "      <td>14.0</td>\n",
       "      <td>200.0</td>\n",
       "      <td>84.0</td>\n",
       "      <td>-0.7</td>\n",
       "      <td>1025.1</td>\n",
       "      <td>-22.1</td>\n",
       "      <td>0.0</td>\n",
       "      <td>NW</td>\n",
       "      <td>3.9</td>\n",
       "      <td>Nongzhanguan</td>\n",
       "    </tr>\n",
       "    <tr>\n",
       "      <th>2</th>\n",
       "      <td>3</td>\n",
       "      <td>2013</td>\n",
       "      <td>3</td>\n",
       "      <td>1</td>\n",
       "      <td>2</td>\n",
       "      <td>3.0</td>\n",
       "      <td>6.0</td>\n",
       "      <td>5.0</td>\n",
       "      <td>14.0</td>\n",
       "      <td>200.0</td>\n",
       "      <td>83.0</td>\n",
       "      <td>-1.2</td>\n",
       "      <td>1025.3</td>\n",
       "      <td>-24.6</td>\n",
       "      <td>0.0</td>\n",
       "      <td>NNW</td>\n",
       "      <td>5.3</td>\n",
       "      <td>Nongzhanguan</td>\n",
       "    </tr>\n",
       "    <tr>\n",
       "      <th>3</th>\n",
       "      <td>4</td>\n",
       "      <td>2013</td>\n",
       "      <td>3</td>\n",
       "      <td>1</td>\n",
       "      <td>3</td>\n",
       "      <td>5.0</td>\n",
       "      <td>5.0</td>\n",
       "      <td>5.0</td>\n",
       "      <td>14.0</td>\n",
       "      <td>200.0</td>\n",
       "      <td>84.0</td>\n",
       "      <td>-1.4</td>\n",
       "      <td>1026.2</td>\n",
       "      <td>-25.5</td>\n",
       "      <td>0.0</td>\n",
       "      <td>N</td>\n",
       "      <td>4.9</td>\n",
       "      <td>Nongzhanguan</td>\n",
       "    </tr>\n",
       "    <tr>\n",
       "      <th>4</th>\n",
       "      <td>5</td>\n",
       "      <td>2013</td>\n",
       "      <td>3</td>\n",
       "      <td>1</td>\n",
       "      <td>4</td>\n",
       "      <td>5.0</td>\n",
       "      <td>5.0</td>\n",
       "      <td>6.0</td>\n",
       "      <td>21.0</td>\n",
       "      <td>200.0</td>\n",
       "      <td>77.0</td>\n",
       "      <td>-1.9</td>\n",
       "      <td>1027.1</td>\n",
       "      <td>-24.5</td>\n",
       "      <td>0.0</td>\n",
       "      <td>NNW</td>\n",
       "      <td>3.2</td>\n",
       "      <td>Nongzhanguan</td>\n",
       "    </tr>\n",
       "  </tbody>\n",
       "</table>\n",
       "</div>"
      ],
      "text/plain": [
       "   No  year  month  day  hour  PM2.5  PM10  SO2   NO2     CO    O3  TEMP  \\\n",
       "0   1  2013      3    1     0    5.0  14.0  4.0  12.0  200.0  85.0  -0.5   \n",
       "1   2  2013      3    1     1    8.0  12.0  6.0  14.0  200.0  84.0  -0.7   \n",
       "2   3  2013      3    1     2    3.0   6.0  5.0  14.0  200.0  83.0  -1.2   \n",
       "3   4  2013      3    1     3    5.0   5.0  5.0  14.0  200.0  84.0  -1.4   \n",
       "4   5  2013      3    1     4    5.0   5.0  6.0  21.0  200.0  77.0  -1.9   \n",
       "\n",
       "     PRES  DEWP  RAIN   wd  WSPM       station  \n",
       "0  1024.5 -21.4   0.0  NNW   5.7  Nongzhanguan  \n",
       "1  1025.1 -22.1   0.0   NW   3.9  Nongzhanguan  \n",
       "2  1025.3 -24.6   0.0  NNW   5.3  Nongzhanguan  \n",
       "3  1026.2 -25.5   0.0    N   4.9  Nongzhanguan  \n",
       "4  1027.1 -24.5   0.0  NNW   3.2  Nongzhanguan  "
      ]
     },
     "execution_count": 3,
     "metadata": {},
     "output_type": "execute_result"
    }
   ],
   "source": [
    "df.head()"
   ]
  },
  {
   "cell_type": "code",
   "execution_count": 4,
   "id": "8e39af14",
   "metadata": {
    "scrolled": false
   },
   "outputs": [
    {
     "data": {
      "text/plain": [
       "No            0\n",
       "year          0\n",
       "month         0\n",
       "day           0\n",
       "hour          0\n",
       "PM2.5       628\n",
       "PM10        440\n",
       "SO2         446\n",
       "NO2         692\n",
       "CO         1206\n",
       "O3          506\n",
       "TEMP         20\n",
       "PRES         20\n",
       "DEWP         20\n",
       "RAIN         20\n",
       "wd           78\n",
       "WSPM         14\n",
       "station       0\n",
       "dtype: int64"
      ]
     },
     "execution_count": 4,
     "metadata": {},
     "output_type": "execute_result"
    }
   ],
   "source": [
    "df.isnull().sum()"
   ]
  },
  {
   "cell_type": "code",
   "execution_count": 6,
   "id": "9607f5cd",
   "metadata": {
    "scrolled": true
   },
   "outputs": [
    {
     "data": {
      "text/plain": [
       "35064"
      ]
     },
     "execution_count": 6,
     "metadata": {},
     "output_type": "execute_result"
    }
   ],
   "source": [
    "len(df)"
   ]
  },
  {
   "cell_type": "code",
   "execution_count": 10,
   "id": "39500686",
   "metadata": {},
   "outputs": [],
   "source": [
    "def clean_limit(df_column, low_limit, up_limit=None):\n",
    "    if up_limit is None:\n",
    "        filtered = df_column[(df_column >= low_limit)]\n",
    "        \n",
    "    else:\n",
    "        filtered = df_column.loc[(df_column >= low_limit) & (df_column <= up_limit)]\n",
    "    return filtered"
   ]
  },
  {
   "cell_type": "code",
   "execution_count": 51,
   "id": "05962c13",
   "metadata": {},
   "outputs": [],
   "source": [
    "df_x=clean_limit(df[\"xVRMS\"],low_limit=0.5)"
   ]
  },
  {
   "cell_type": "code",
   "execution_count": 52,
   "id": "7e0063b9",
   "metadata": {
    "scrolled": true
   },
   "outputs": [
    {
     "data": {
      "text/plain": [
       "(pandas.core.series.Series, 57455)"
      ]
     },
     "execution_count": 52,
     "metadata": {},
     "output_type": "execute_result"
    }
   ],
   "source": [
    "type(df_x),len(df_x)"
   ]
  },
  {
   "cell_type": "code",
   "execution_count": 53,
   "id": "5a45760d",
   "metadata": {},
   "outputs": [],
   "source": [
    "slct_df = df.loc[df_x.index]\n"
   ]
  },
  {
   "cell_type": "code",
   "execution_count": 54,
   "id": "861aac3b",
   "metadata": {},
   "outputs": [
    {
     "data": {
      "text/plain": [
       "57455"
      ]
     },
     "execution_count": 54,
     "metadata": {},
     "output_type": "execute_result"
    }
   ],
   "source": [
    "len(slct_df)"
   ]
  },
  {
   "cell_type": "code",
   "execution_count": 55,
   "id": "d26d80de",
   "metadata": {
    "scrolled": true
   },
   "outputs": [
    {
     "data": {
      "text/html": [
       "<div>\n",
       "<style scoped>\n",
       "    .dataframe tbody tr th:only-of-type {\n",
       "        vertical-align: middle;\n",
       "    }\n",
       "\n",
       "    .dataframe tbody tr th {\n",
       "        vertical-align: top;\n",
       "    }\n",
       "\n",
       "    .dataframe thead th {\n",
       "        text-align: right;\n",
       "    }\n",
       "</style>\n",
       "<table border=\"1\" class=\"dataframe\">\n",
       "  <thead>\n",
       "    <tr style=\"text-align: right;\">\n",
       "      <th></th>\n",
       "      <th>xVRMS</th>\n",
       "      <th>yVRMS</th>\n",
       "      <th>zVRMS</th>\n",
       "      <th>temp</th>\n",
       "      <th>newCF</th>\n",
       "    </tr>\n",
       "    <tr>\n",
       "      <th>time</th>\n",
       "      <th></th>\n",
       "      <th></th>\n",
       "      <th></th>\n",
       "      <th></th>\n",
       "      <th></th>\n",
       "    </tr>\n",
       "  </thead>\n",
       "  <tbody>\n",
       "    <tr>\n",
       "      <th>2022-06-26 21:35:00</th>\n",
       "      <td>7.53931</td>\n",
       "      <td>4.94363</td>\n",
       "      <td>2.89816</td>\n",
       "      <td>48.95334</td>\n",
       "      <td>3.84012</td>\n",
       "    </tr>\n",
       "    <tr>\n",
       "      <th>2022-06-26 21:40:00</th>\n",
       "      <td>7.36773</td>\n",
       "      <td>4.82611</td>\n",
       "      <td>2.85156</td>\n",
       "      <td>49.05156</td>\n",
       "      <td>4.20228</td>\n",
       "    </tr>\n",
       "    <tr>\n",
       "      <th>2022-06-26 21:45:00</th>\n",
       "      <td>7.18102</td>\n",
       "      <td>4.84723</td>\n",
       "      <td>2.85830</td>\n",
       "      <td>48.84285</td>\n",
       "      <td>4.10223</td>\n",
       "    </tr>\n",
       "    <tr>\n",
       "      <th>2022-06-26 21:50:00</th>\n",
       "      <td>7.28957</td>\n",
       "      <td>4.86776</td>\n",
       "      <td>2.87858</td>\n",
       "      <td>48.89196</td>\n",
       "      <td>4.06978</td>\n",
       "    </tr>\n",
       "    <tr>\n",
       "      <th>2022-06-26 21:55:00</th>\n",
       "      <td>7.10303</td>\n",
       "      <td>4.77624</td>\n",
       "      <td>2.82860</td>\n",
       "      <td>48.79374</td>\n",
       "      <td>4.06219</td>\n",
       "    </tr>\n",
       "  </tbody>\n",
       "</table>\n",
       "</div>"
      ],
      "text/plain": [
       "                       xVRMS    yVRMS    zVRMS      temp    newCF\n",
       "time                                                             \n",
       "2022-06-26 21:35:00  7.53931  4.94363  2.89816  48.95334  3.84012\n",
       "2022-06-26 21:40:00  7.36773  4.82611  2.85156  49.05156  4.20228\n",
       "2022-06-26 21:45:00  7.18102  4.84723  2.85830  48.84285  4.10223\n",
       "2022-06-26 21:50:00  7.28957  4.86776  2.87858  48.89196  4.06978\n",
       "2022-06-26 21:55:00  7.10303  4.77624  2.82860  48.79374  4.06219"
      ]
     },
     "execution_count": 55,
     "metadata": {},
     "output_type": "execute_result"
    }
   ],
   "source": [
    "slct_df.head()"
   ]
  },
  {
   "cell_type": "code",
   "execution_count": null,
   "id": "3a77e1c1",
   "metadata": {},
   "outputs": [],
   "source": [
    "import pandas as pd\n",
    "import numpy as np\n",
    "import matplotlib.pyplot as plt\n",
    "from sklearn.preprocessing import MinMaxScaler\n",
    "from keras.models import Sequential\n",
    "from keras.layers import LSTM, Dense, Dropout\n",
    "from keras.models import Sequential\n",
    "import matplotlib.pyplot as plt\n",
    "import pandas as pd\n",
    "from sklearn.preprocessing import MinMaxScaler\n",
    "\n",
    "df=pd.read_csv(\"C:/Users/denem/OneDrive/Belgeler/AI/holidays_events.csv\")\n",
    "\n",
    "df.head()\n",
    "\n",
    "df[\"cf\"]=df[\"cf\"].fillna(0)\n",
    "df[\"maxCf\"]=df[\"maxCf\"].fillna(0)\n",
    "\n",
    "df[\"cf\"].isnull().sum()\n",
    "df[\"maxCf\"].isnull().sum()\n",
    "\n",
    "df[\"newCF\"]=df[\"cf\"]+df[\"maxCf\"]\n",
    "\n",
    "df.isnull().sum()\n",
    "\n",
    "del(df[\"cf\"])\n",
    "del(df[\"maxCf\"])\n",
    "\n",
    "len(df)\n",
    "\n",
    "def clean_limit(df_column, low_limit, up_limit=None):\n",
    "    if up_limit is None:\n",
    "        filtered = df_column[(df_column >= low_limit)]\n",
    "        \n",
    "    else:\n",
    "        filtered = df_column.loc[(df_column >= low_limit) & (df_column <= up_limit)]\n",
    "    return filtered\n",
    "\n",
    "df_x=clean_limit(df[\"xVRMS\"],low_limit=0.5)\n",
    "\n",
    "type(df_x),len(df_x)\n",
    "\n",
    "slct_df = df.loc[df_x.index]\n",
    "\n",
    "\n",
    "len(slct_df)\n",
    "\n",
    "slct_df.head()"
   ]
  }
 ],
 "metadata": {
  "kernelspec": {
   "display_name": "Python 3 (ipykernel)",
   "language": "python",
   "name": "python3"
  },
  "language_info": {
   "codemirror_mode": {
    "name": "ipython",
    "version": 3
   },
   "file_extension": ".py",
   "mimetype": "text/x-python",
   "name": "python",
   "nbconvert_exporter": "python",
   "pygments_lexer": "ipython3",
   "version": "3.10.9"
  }
 },
 "nbformat": 4,
 "nbformat_minor": 5
}
