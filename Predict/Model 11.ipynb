{
 "cells": [
  {
   "cell_type": "markdown",
   "id": "abb4d14d",
   "metadata": {},
   "source": [
    "# Model 11\n",
    "## Model 9 but try solwing overfitting"
   ]
  },
  {
   "cell_type": "code",
   "execution_count": 1,
   "id": "23e92f3b",
   "metadata": {},
   "outputs": [],
   "source": [
    "import pandas as pd\n",
    "import numpy as np\n",
    "import matplotlib.pyplot as plt\n",
    "from sklearn.preprocessing import MinMaxScaler\n",
    "from keras.models import Sequential\n",
    "from keras.layers import LSTM, Dense, Dropout\n",
    "from keras.models import Sequential\n",
    "import matplotlib.pyplot as plt\n",
    "import pandas as pd\n",
    "from sklearn.preprocessing import MinMaxScaler"
   ]
  },
  {
   "cell_type": "code",
   "execution_count": 2,
   "id": "19dacf3a",
   "metadata": {},
   "outputs": [],
   "source": [
    "df_oyak=pd.read_csv(r\"C:\\Users\\denem\\Downloads\\OykBlFarnSstmFn.csv\")"
   ]
  },
  {
   "cell_type": "code",
   "execution_count": 3,
   "id": "04a0a87e",
   "metadata": {
    "scrolled": true
   },
   "outputs": [
    {
     "data": {
      "text/html": [
       "<div>\n",
       "<style scoped>\n",
       "    .dataframe tbody tr th:only-of-type {\n",
       "        vertical-align: middle;\n",
       "    }\n",
       "\n",
       "    .dataframe tbody tr th {\n",
       "        vertical-align: top;\n",
       "    }\n",
       "\n",
       "    .dataframe thead th {\n",
       "        text-align: right;\n",
       "    }\n",
       "</style>\n",
       "<table border=\"1\" class=\"dataframe\">\n",
       "  <thead>\n",
       "    <tr style=\"text-align: right;\">\n",
       "      <th></th>\n",
       "      <th>time</th>\n",
       "      <th>xVRMS</th>\n",
       "      <th>yVRMS</th>\n",
       "      <th>zVRMS</th>\n",
       "      <th>temp</th>\n",
       "      <th>cf</th>\n",
       "      <th>maxCf</th>\n",
       "    </tr>\n",
       "  </thead>\n",
       "  <tbody>\n",
       "    <tr>\n",
       "      <th>0</th>\n",
       "      <td>2022-06-27 11:35:00</td>\n",
       "      <td>2.3975</td>\n",
       "      <td>1.7435</td>\n",
       "      <td>0.448</td>\n",
       "      <td>50.4</td>\n",
       "      <td>2.685</td>\n",
       "      <td>NaN</td>\n",
       "    </tr>\n",
       "    <tr>\n",
       "      <th>1</th>\n",
       "      <td>2022-06-27 11:40:00</td>\n",
       "      <td>2.3110</td>\n",
       "      <td>1.8080</td>\n",
       "      <td>0.524</td>\n",
       "      <td>49.9</td>\n",
       "      <td>2.480</td>\n",
       "      <td>NaN</td>\n",
       "    </tr>\n",
       "    <tr>\n",
       "      <th>2</th>\n",
       "      <td>2022-06-27 11:45:00</td>\n",
       "      <td>2.3520</td>\n",
       "      <td>1.7020</td>\n",
       "      <td>0.451</td>\n",
       "      <td>50.5</td>\n",
       "      <td>2.570</td>\n",
       "      <td>NaN</td>\n",
       "    </tr>\n",
       "    <tr>\n",
       "      <th>3</th>\n",
       "      <td>2022-06-27 11:55:00</td>\n",
       "      <td>2.4500</td>\n",
       "      <td>1.6380</td>\n",
       "      <td>0.469</td>\n",
       "      <td>50.4</td>\n",
       "      <td>2.460</td>\n",
       "      <td>NaN</td>\n",
       "    </tr>\n",
       "    <tr>\n",
       "      <th>4</th>\n",
       "      <td>2022-06-27 12:00:00</td>\n",
       "      <td>2.3680</td>\n",
       "      <td>1.7200</td>\n",
       "      <td>0.436</td>\n",
       "      <td>50.8</td>\n",
       "      <td>2.290</td>\n",
       "      <td>NaN</td>\n",
       "    </tr>\n",
       "  </tbody>\n",
       "</table>\n",
       "</div>"
      ],
      "text/plain": [
       "                  time   xVRMS   yVRMS  zVRMS  temp     cf  maxCf\n",
       "0  2022-06-27 11:35:00  2.3975  1.7435  0.448  50.4  2.685    NaN\n",
       "1  2022-06-27 11:40:00  2.3110  1.8080  0.524  49.9  2.480    NaN\n",
       "2  2022-06-27 11:45:00  2.3520  1.7020  0.451  50.5  2.570    NaN\n",
       "3  2022-06-27 11:55:00  2.4500  1.6380  0.469  50.4  2.460    NaN\n",
       "4  2022-06-27 12:00:00  2.3680  1.7200  0.436  50.8  2.290    NaN"
      ]
     },
     "execution_count": 3,
     "metadata": {},
     "output_type": "execute_result"
    }
   ],
   "source": [
    "df_oyak.head()"
   ]
  },
  {
   "cell_type": "code",
   "execution_count": 4,
   "id": "71107c7d",
   "metadata": {},
   "outputs": [],
   "source": [
    "new_df_oyk=df_oyak.sort_values(\"time\")"
   ]
  },
  {
   "cell_type": "code",
   "execution_count": 5,
   "id": "1f0b8598",
   "metadata": {},
   "outputs": [],
   "source": [
    "df2_x=new_df_oyk[\"xVRMS\"]"
   ]
  },
  {
   "cell_type": "code",
   "execution_count": 6,
   "id": "32658486",
   "metadata": {},
   "outputs": [
    {
     "data": {
      "text/plain": [
       "3"
      ]
     },
     "execution_count": 6,
     "metadata": {},
     "output_type": "execute_result"
    }
   ],
   "source": [
    "df2_x.isnull().sum()"
   ]
  },
  {
   "cell_type": "code",
   "execution_count": 7,
   "id": "0bef9ac6",
   "metadata": {},
   "outputs": [],
   "source": [
    "df2_x=df2_x.fillna(df2_x.mean())"
   ]
  },
  {
   "cell_type": "code",
   "execution_count": 8,
   "id": "023dee5b",
   "metadata": {},
   "outputs": [
    {
     "data": {
      "text/plain": [
       "0"
      ]
     },
     "execution_count": 8,
     "metadata": {},
     "output_type": "execute_result"
    }
   ],
   "source": [
    "df2_x.isnull().sum()"
   ]
  },
  {
   "cell_type": "code",
   "execution_count": 9,
   "id": "5613f3ae",
   "metadata": {},
   "outputs": [],
   "source": [
    "df2_x.index = pd.to_datetime(new_df_oyk[\"time\"])"
   ]
  },
  {
   "cell_type": "code",
   "execution_count": 10,
   "id": "778a72be",
   "metadata": {
    "scrolled": false
   },
   "outputs": [
    {
     "data": {
      "text/plain": [
       "time\n",
       "2023-04-24 21:10:00    4.53544\n",
       "2023-04-24 21:15:00    4.50937\n",
       "2023-04-24 21:20:00    4.41924\n",
       "2023-04-24 21:25:00    4.49352\n",
       "2023-04-24 21:30:00    4.53100\n",
       "Name: xVRMS, dtype: float64"
      ]
     },
     "execution_count": 10,
     "metadata": {},
     "output_type": "execute_result"
    }
   ],
   "source": [
    "df2_x.tail()"
   ]
  },
  {
   "cell_type": "code",
   "execution_count": 11,
   "id": "df9eafdd",
   "metadata": {},
   "outputs": [],
   "source": [
    "def clean_limit(df_column, low_limit, up_limit=None):\n",
    "    if up_limit is None:\n",
    "        filtered = df_column[(df_column >= low_limit)]\n",
    "        \n",
    "    else:\n",
    "        filtered = df_column.loc[(df_column >= low_limit) & (df_column <= up_limit)]\n",
    "    return filtered"
   ]
  },
  {
   "cell_type": "code",
   "execution_count": 12,
   "id": "03082a69",
   "metadata": {},
   "outputs": [],
   "source": [
    "df2_x=clean_limit(df2_x,low_limit=0.5)"
   ]
  },
  {
   "cell_type": "markdown",
   "id": "bb83ec4d",
   "metadata": {},
   "source": [
    "## 3 sigma"
   ]
  },
  {
   "cell_type": "code",
   "execution_count": 13,
   "id": "de24a3ca",
   "metadata": {
    "scrolled": false
   },
   "outputs": [
    {
     "data": {
      "text/plain": [
       "(3.522406619639381, 0.9837945762157837, 6.473790348286732, 0.5710228909920296)"
      ]
     },
     "execution_count": 13,
     "metadata": {},
     "output_type": "execute_result"
    }
   ],
   "source": [
    "process_clm = df2_x\n",
    "process_clm_mean = process_clm.mean()\n",
    "process_clm_std = process_clm.std()\n",
    "\n",
    "up_limit = process_clm_mean + 3 * process_clm_std\n",
    "low_limit = process_clm_mean - 3 * process_clm_std\n",
    "\n",
    "process_clm_mean,process_clm_std,up_limit,low_limit"
   ]
  },
  {
   "cell_type": "code",
   "execution_count": 14,
   "id": "7b4148a3",
   "metadata": {},
   "outputs": [
    {
     "data": {
      "text/plain": [
       "58688"
      ]
     },
     "execution_count": 14,
     "metadata": {},
     "output_type": "execute_result"
    }
   ],
   "source": [
    "len(df2_x)"
   ]
  },
  {
   "cell_type": "code",
   "execution_count": 15,
   "id": "a77d29eb",
   "metadata": {},
   "outputs": [],
   "source": [
    "df_x2=clean_limit(df2_x,low_limit=0.5710228909920296,up_limit=6.473790348286732)"
   ]
  },
  {
   "cell_type": "code",
   "execution_count": 16,
   "id": "90e64adf",
   "metadata": {},
   "outputs": [],
   "source": [
    " df2_x = df2_x.loc[(df2_x >= low_limit) & (df2_x <= up_limit)]"
   ]
  },
  {
   "cell_type": "code",
   "execution_count": 17,
   "id": "a3c0dd6c",
   "metadata": {},
   "outputs": [
    {
     "data": {
      "text/plain": [
       "58328"
      ]
     },
     "execution_count": 17,
     "metadata": {},
     "output_type": "execute_result"
    }
   ],
   "source": [
    "\n",
    "len(df2_x)"
   ]
  },
  {
   "cell_type": "code",
   "execution_count": null,
   "id": "6e7fefd9",
   "metadata": {},
   "outputs": [],
   "source": []
  },
  {
   "cell_type": "code",
   "execution_count": 18,
   "id": "482ebc67",
   "metadata": {
    "scrolled": false
   },
   "outputs": [
    {
     "data": {
      "image/png": "[encoded data removed]",
      "text/plain": [
       "<Figure size 640x480 with 4 Axes>"
      ]
     },
     "metadata": {},
     "output_type": "display_data"
    }
   ],
   "source": [
    "from statsmodels.tsa.seasonal import seasonal_decompose\n",
    "\n",
    "result = seasonal_decompose(df_x2, model='multiplicative',period=4096)\n",
    "result.plot()\n",
    "plt.show()"
   ]
  },
  {
   "cell_type": "code",
   "execution_count": 19,
   "id": "c3f895e0",
   "metadata": {},
   "outputs": [],
   "source": [
    "WINDOW_SIZE=5"
   ]
  },
  {
   "cell_type": "code",
   "execution_count": 20,
   "id": "c3199eb3",
   "metadata": {},
   "outputs": [],
   "source": [
    "def df_to_X_y(df, window_size=5):\n",
    "  \"\"\"\n",
    "  Converts a pandas DataFrame to a tuple of NumPy arrays, where X is the input data and y is the target data.\n",
    "\n",
    "  Args:\n",
    "    df: A pandas DataFrame.\n",
    "    window_size: The size of the sliding window.\n",
    "\n",
    "  Returns:\n",
    "    A tuple of NumPy arrays, where X is the input data and y is the target data.\n",
    "  \"\"\"\n",
    "\n",
    "  # Convert the DataFrame to a NumPy array.\n",
    "  df_as_np = df.to_numpy()\n",
    "\n",
    "  # Create the input and target data.\n",
    "  X = []\n",
    "  y = []\n",
    "  for i in range(len(df_as_np) - window_size):\n",
    "    row = df_as_np[i:i + window_size]\n",
    "    X.append(row)\n",
    "    label = df_as_np[i + window_size]\n",
    "    y.append(label)\n",
    "\n",
    "  # Return the input and target data as NumPy arrays.\n",
    "  return np.array(X), np.array(y)"
   ]
  },
  {
   "cell_type": "code",
   "execution_count": 21,
   "id": "a9c56685",
   "metadata": {},
   "outputs": [
    {
     "data": {
      "text/plain": [
       "((58323, 5), (58323,))"
      ]
     },
     "execution_count": 21,
     "metadata": {},
     "output_type": "execute_result"
    }
   ],
   "source": [
    "X,y =df_to_X_y(df2_x,WINDOW_SIZE)\n",
    "X.shape,y.shape"
   ]
  },
  {
   "cell_type": "code",
   "execution_count": 22,
   "id": "1a34aa38",
   "metadata": {},
   "outputs": [
    {
     "data": {
      "text/plain": [
       "((46658, 5), (46658,), (5832, 5), (5832,), (5833, 5), (5833,))"
      ]
     },
     "execution_count": 22,
     "metadata": {},
     "output_type": "execute_result"
    }
   ],
   "source": [
    "total_size = len(X)\n",
    "train_size = int(total_size * 0.8)\n",
    "val_size = int(total_size * 0.1)\n",
    "\n",
    "X_train, y_train = X[:train_size], y[:train_size]  # %80\n",
    "X_val, y_val = X[train_size:train_size+val_size], y[train_size:train_size+val_size]  # %10\n",
    "X_test, y_test = X[train_size+val_size:], y[train_size+val_size:]  # %10\n",
    "\n",
    "X_train.shape, y_train.shape, X_val.shape, y_val.shape, X_test.shape, y_test.shape"
   ]
  },
  {
   "cell_type": "code",
   "execution_count": 23,
   "id": "ad692eb8",
   "metadata": {},
   "outputs": [],
   "source": [
    "# Assuming X_train, X_val, and X_test are your input features\n",
    "# Assuming y_train, y_val, and y_test are your target variables\n",
    "\n",
    "# Create a MinMaxScaler object for the input features\n",
    "scaler = MinMaxScaler()\n",
    "\n",
    "# Fit the scaler on the training input features\n",
    "scaler.fit(X_train)\n",
    "\n",
    "# Apply normalization to the input features\n",
    "X_train_normalized = scaler.transform(X_train)\n",
    "X_val_normalized = scaler.transform(X_val)\n",
    "X_test_normalized = scaler.transform(X_test)"
   ]
  },
  {
   "cell_type": "code",
   "execution_count": 24,
   "id": "9f3fa756",
   "metadata": {},
   "outputs": [],
   "source": [
    "from tensorflow.keras.models import Sequential\n",
    "from tensorflow.keras.layers import *\n",
    "from tensorflow.keras.callbacks import ModelCheckpoint\n",
    "from tensorflow.keras.losses import MeanSquaredError\n",
    "from tensorflow.keras.metrics import RootMeanSquaredError\n",
    "from tensorflow.keras.optimizers import Adam"
   ]
  },
  {
   "cell_type": "code",
   "execution_count": 25,
   "id": "ad24e93c",
   "metadata": {
    "scrolled": true
   },
   "outputs": [
    {
     "name": "stdout",
     "output_type": "stream",
     "text": [
      "Epoch 1/100\n",
      "730/730 [==============================] - 7s 7ms/step - loss: 0.8307 - val_loss: 0.2908\n",
      "Epoch 2/100\n",
      "730/730 [==============================] - 5s 6ms/step - loss: 0.2680 - val_loss: 0.2210\n",
      "Epoch 3/100\n",
      "730/730 [==============================] - 5s 6ms/step - loss: 0.2296 - val_loss: 0.2457\n",
      "Epoch 4/100\n",
      "730/730 [==============================] - 5s 7ms/step - loss: 0.2093 - val_loss: 0.1922\n",
      "Epoch 5/100\n",
      "730/730 [==============================] - 5s 7ms/step - loss: 0.1952 - val_loss: 0.1824\n",
      "Epoch 6/100\n",
      "730/730 [==============================] - 5s 6ms/step - loss: 0.1798 - val_loss: 0.2002\n",
      "Epoch 7/100\n",
      "730/730 [==============================] - 5s 7ms/step - loss: 0.1668 - val_loss: 0.1816\n",
      "Epoch 8/100\n",
      "730/730 [==============================] - 5s 6ms/step - loss: 0.1577 - val_loss: 0.1996\n",
      "Epoch 9/100\n",
      "730/730 [==============================] - 5s 6ms/step - loss: 0.1514 - val_loss: 0.1853\n",
      "Epoch 10/100\n",
      "730/730 [==============================] - 4s 6ms/step - loss: 0.1469 - val_loss: 0.1521\n",
      "Epoch 11/100\n",
      "730/730 [==============================] - 5s 7ms/step - loss: 0.1416 - val_loss: 0.1570\n",
      "Epoch 12/100\n",
      "730/730 [==============================] - 5s 7ms/step - loss: 0.1400 - val_loss: 0.1522\n",
      "Epoch 13/100\n",
      "730/730 [==============================] - 5s 7ms/step - loss: 0.1380 - val_loss: 0.1561\n",
      "Epoch 14/100\n",
      "730/730 [==============================] - 5s 7ms/step - loss: 0.1369 - val_loss: 0.1540\n",
      "Epoch 15/100\n",
      "730/730 [==============================] - 5s 7ms/step - loss: 0.1346 - val_loss: 0.1489\n",
      "Epoch 16/100\n",
      "730/730 [==============================] - 5s 7ms/step - loss: 0.1360 - val_loss: 0.1519\n",
      "Epoch 17/100\n",
      "730/730 [==============================] - 5s 7ms/step - loss: 0.1338 - val_loss: 0.1480\n",
      "Epoch 18/100\n",
      "730/730 [==============================] - 5s 7ms/step - loss: 0.1315 - val_loss: 0.1789\n",
      "Epoch 19/100\n",
      "730/730 [==============================] - 5s 7ms/step - loss: 0.1328 - val_loss: 0.1520\n",
      "Epoch 20/100\n",
      "730/730 [==============================] - 5s 7ms/step - loss: 0.1302 - val_loss: 0.1555\n",
      "Epoch 21/100\n",
      "730/730 [==============================] - 5s 7ms/step - loss: 0.1285 - val_loss: 0.1539\n",
      "Epoch 22/100\n",
      "730/730 [==============================] - 5s 7ms/step - loss: 0.1297 - val_loss: 0.1510\n",
      "Epoch 23/100\n",
      "730/730 [==============================] - 5s 7ms/step - loss: 0.1263 - val_loss: 0.1427\n",
      "Epoch 24/100\n",
      "730/730 [==============================] - 5s 7ms/step - loss: 0.1259 - val_loss: 0.1368\n",
      "Epoch 25/100\n",
      "730/730 [==============================] - 5s 6ms/step - loss: 0.1236 - val_loss: 0.1449\n",
      "Epoch 26/100\n",
      "730/730 [==============================] - 5s 7ms/step - loss: 0.1229 - val_loss: 0.1559\n",
      "Epoch 27/100\n",
      "730/730 [==============================] - 5s 7ms/step - loss: 0.1225 - val_loss: 0.1370\n",
      "Epoch 28/100\n",
      "730/730 [==============================] - 5s 7ms/step - loss: 0.1212 - val_loss: 0.1368\n",
      "Epoch 29/100\n",
      "730/730 [==============================] - 5s 7ms/step - loss: 0.1183 - val_loss: 0.1351\n",
      "Epoch 30/100\n",
      "730/730 [==============================] - 5s 7ms/step - loss: 0.1185 - val_loss: 0.1403\n",
      "Epoch 31/100\n",
      "730/730 [==============================] - 5s 6ms/step - loss: 0.1163 - val_loss: 0.1364\n",
      "Epoch 32/100\n",
      "730/730 [==============================] - 5s 6ms/step - loss: 0.1166 - val_loss: 0.1503\n",
      "Epoch 33/100\n",
      "730/730 [==============================] - 5s 7ms/step - loss: 0.1149 - val_loss: 0.1523\n",
      "Epoch 34/100\n",
      "730/730 [==============================] - 5s 7ms/step - loss: 0.1146 - val_loss: 0.1357\n",
      "Epoch 35/100\n",
      "730/730 [==============================] - 5s 6ms/step - loss: 0.1132 - val_loss: 0.1301\n",
      "Epoch 36/100\n",
      "730/730 [==============================] - 5s 6ms/step - loss: 0.1126 - val_loss: 0.1403\n",
      "Epoch 37/100\n",
      "730/730 [==============================] - 5s 7ms/step - loss: 0.1124 - val_loss: 0.1321\n",
      "Epoch 38/100\n",
      "730/730 [==============================] - 5s 6ms/step - loss: 0.1129 - val_loss: 0.1281\n",
      "Epoch 39/100\n",
      "730/730 [==============================] - 5s 6ms/step - loss: 0.1114 - val_loss: 0.1359\n",
      "Epoch 40/100\n",
      "730/730 [==============================] - 5s 7ms/step - loss: 0.1111 - val_loss: 0.1300\n",
      "Epoch 41/100\n",
      "730/730 [==============================] - 5s 6ms/step - loss: 0.1100 - val_loss: 0.1322\n",
      "Epoch 42/100\n",
      "730/730 [==============================] - 5s 7ms/step - loss: 0.1104 - val_loss: 0.1391\n",
      "Epoch 43/100\n",
      "730/730 [==============================] - 6s 8ms/step - loss: 0.1092 - val_loss: 0.1286\n",
      "Epoch 44/100\n",
      "730/730 [==============================] - 6s 9ms/step - loss: 0.1090 - val_loss: 0.1350\n",
      "Epoch 45/100\n",
      "730/730 [==============================] - 6s 8ms/step - loss: 0.1088 - val_loss: 0.1384\n",
      "Epoch 46/100\n",
      "730/730 [==============================] - 7s 9ms/step - loss: 0.1089 - val_loss: 0.1283\n",
      "Epoch 47/100\n",
      "730/730 [==============================] - 7s 9ms/step - loss: 0.1080 - val_loss: 0.1275\n",
      "Epoch 48/100\n",
      "730/730 [==============================] - 7s 9ms/step - loss: 0.1070 - val_loss: 0.1280\n",
      "Epoch 49/100\n",
      "730/730 [==============================] - 6s 9ms/step - loss: 0.1068 - val_loss: 0.1319\n",
      "Epoch 50/100\n",
      "730/730 [==============================] - 5s 7ms/step - loss: 0.1075 - val_loss: 0.1289\n",
      "Epoch 51/100\n",
      "730/730 [==============================] - 6s 8ms/step - loss: 0.1068 - val_loss: 0.1303\n",
      "Epoch 52/100\n",
      "730/730 [==============================] - 5s 7ms/step - loss: 0.1071 - val_loss: 0.1240\n",
      "Epoch 53/100\n",
      "730/730 [==============================] - 5s 7ms/step - loss: 0.1058 - val_loss: 0.1310\n",
      "Epoch 54/100\n",
      "730/730 [==============================] - 5s 8ms/step - loss: 0.1056 - val_loss: 0.1405\n",
      "Epoch 55/100\n",
      "730/730 [==============================] - 5s 7ms/step - loss: 0.1053 - val_loss: 0.1254\n",
      "Epoch 56/100\n",
      "730/730 [==============================] - 5s 7ms/step - loss: 0.1054 - val_loss: 0.1325\n",
      "Epoch 57/100\n",
      "730/730 [==============================] - 5s 7ms/step - loss: 0.1052 - val_loss: 0.1271\n",
      "Epoch 58/100\n",
      "730/730 [==============================] - 5s 7ms/step - loss: 0.1045 - val_loss: 0.1238\n",
      "Epoch 59/100\n",
      "730/730 [==============================] - 6s 8ms/step - loss: 0.1044 - val_loss: 0.1402\n",
      "Epoch 60/100\n",
      "730/730 [==============================] - 6s 8ms/step - loss: 0.1060 - val_loss: 0.1354\n",
      "Epoch 61/100\n",
      "730/730 [==============================] - 5s 7ms/step - loss: 0.1043 - val_loss: 0.1317\n",
      "Epoch 62/100\n",
      "730/730 [==============================] - 5s 6ms/step - loss: 0.1031 - val_loss: 0.2864\n",
      "Epoch 63/100\n",
      "730/730 [==============================] - 5s 7ms/step - loss: 0.1314 - val_loss: 0.1310\n",
      "Epoch 64/100\n",
      "730/730 [==============================] - 5s 7ms/step - loss: 0.1126 - val_loss: 0.1250\n",
      "Epoch 65/100\n",
      "730/730 [==============================] - 5s 7ms/step - loss: 0.1063 - val_loss: 0.1272\n",
      "Epoch 66/100\n",
      "730/730 [==============================] - 5s 7ms/step - loss: 0.1051 - val_loss: 0.1301\n",
      "Epoch 67/100\n",
      "730/730 [==============================] - 5s 7ms/step - loss: 0.1043 - val_loss: 0.1224\n",
      "Epoch 68/100\n",
      "730/730 [==============================] - 5s 7ms/step - loss: 0.1032 - val_loss: 0.1238\n",
      "Epoch 69/100\n",
      "730/730 [==============================] - 6s 8ms/step - loss: 0.1020 - val_loss: 0.1216\n",
      "Epoch 70/100\n",
      "730/730 [==============================] - 5s 7ms/step - loss: 0.1029 - val_loss: 0.1232\n",
      "Epoch 71/100\n",
      "730/730 [==============================] - 5s 7ms/step - loss: 0.1031 - val_loss: 0.1227\n",
      "Epoch 72/100\n",
      "730/730 [==============================] - 5s 7ms/step - loss: 0.1017 - val_loss: 0.1234\n",
      "Epoch 73/100\n",
      "730/730 [==============================] - 5s 7ms/step - loss: 0.1014 - val_loss: 0.1253\n",
      "Epoch 74/100\n",
      "730/730 [==============================] - 5s 7ms/step - loss: 0.1008 - val_loss: 0.1247\n",
      "Epoch 75/100\n",
      "730/730 [==============================] - 6s 8ms/step - loss: 0.1024 - val_loss: 0.1502\n",
      "Epoch 76/100\n",
      "730/730 [==============================] - 6s 9ms/step - loss: 0.1008 - val_loss: 0.1245\n",
      "Epoch 77/100\n",
      "730/730 [==============================] - 6s 9ms/step - loss: 0.1013 - val_loss: 0.1225\n",
      "Epoch 78/100\n",
      "730/730 [==============================] - 7s 9ms/step - loss: 0.1013 - val_loss: 0.1186\n",
      "Epoch 79/100\n",
      "730/730 [==============================] - 5s 7ms/step - loss: 0.1005 - val_loss: 0.1465\n",
      "Epoch 80/100\n",
      "730/730 [==============================] - 5s 7ms/step - loss: 0.1048 - val_loss: 0.1233\n",
      "Epoch 81/100\n",
      "730/730 [==============================] - 6s 8ms/step - loss: 0.1003 - val_loss: 0.1290\n",
      "Epoch 82/100\n",
      "730/730 [==============================] - 5s 7ms/step - loss: 0.0994 - val_loss: 0.1249\n",
      "Epoch 83/100\n",
      "730/730 [==============================] - 5s 6ms/step - loss: 0.1008 - val_loss: 0.1274\n",
      "Epoch 84/100\n",
      "730/730 [==============================] - 5s 7ms/step - loss: 0.1006 - val_loss: 0.1209\n",
      "Epoch 85/100\n",
      "730/730 [==============================] - 5s 7ms/step - loss: 0.1002 - val_loss: 0.1262\n",
      "Epoch 86/100\n",
      "730/730 [==============================] - 5s 7ms/step - loss: 0.0995 - val_loss: 0.1294\n",
      "Epoch 87/100\n",
      "730/730 [==============================] - 5s 7ms/step - loss: 0.1003 - val_loss: 0.1265\n",
      "Epoch 88/100\n",
      "730/730 [==============================] - 5s 7ms/step - loss: 0.1005 - val_loss: 0.1304\n"
     ]
    },
    {
     "data": {
      "text/plain": [
       "<keras.callbacks.History at 0x1c62a1a8dc0>"
      ]
     },
     "execution_count": 25,
     "metadata": {},
     "output_type": "execute_result"
    }
   ],
   "source": [
    "from sklearn.preprocessing import MinMaxScaler\n",
    "from keras.callbacks import EarlyStopping\n",
    "from keras import regularizers\n",
    "from keras.engine.input_layer import InputLayer\n",
    "\n",
    "# Rest of your code\n",
    "model11 = Sequential()\n",
    "model11.add(InputLayer((WINDOW_SIZE, 1)))\n",
    "model11.add(LSTM(128, return_sequences=True, kernel_regularizer=regularizers.l2(0.01)))\n",
    "model11.add(Dropout(0.2))\n",
    "model11.add(LSTM(64, kernel_regularizer=regularizers.l2(0.01)))\n",
    "model11.add(Dropout(0.2))\n",
    "model11.add(Dense(8, activation='relu', kernel_regularizer=regularizers.l2(0.01)))\n",
    "model11.add(Dense(1, activation='linear'))\n",
    "\n",
    "# Compile the model\n",
    "model11.compile(loss=\"mse\", optimizer=Adam(learning_rate=0.001))\n",
    "best_model_weights = ModelCheckpoint(\"model11.h5\", monitor=\"val_loss\", save_best_only=True)\n",
    "# Apply early stopping to prevent overfitting\n",
    "early_stopping = EarlyStopping(patience=10, restore_best_weights=True)\n",
    "\n",
    "# Fit the model\n",
    "model11.fit(X_train_normalized, y_train, batch_size=64, epochs=100, validation_data=(X_val_normalized, y_val), callbacks=[best_model_weights, early_stopping])\n",
    "\n"
   ]
  },
  {
   "cell_type": "code",
   "execution_count": 26,
   "id": "fe733d35",
   "metadata": {
    "scrolled": true
   },
   "outputs": [
    {
     "name": "stdout",
     "output_type": "stream",
     "text": [
      "1459/1459 [==============================] - 3s 2ms/step\n"
     ]
    },
    {
     "data": {
      "text/html": [
       "<div>\n",
       "<style scoped>\n",
       "    .dataframe tbody tr th:only-of-type {\n",
       "        vertical-align: middle;\n",
       "    }\n",
       "\n",
       "    .dataframe tbody tr th {\n",
       "        vertical-align: top;\n",
       "    }\n",
       "\n",
       "    .dataframe thead th {\n",
       "        text-align: right;\n",
       "    }\n",
       "</style>\n",
       "<table border=\"1\" class=\"dataframe\">\n",
       "  <thead>\n",
       "    <tr style=\"text-align: right;\">\n",
       "      <th></th>\n",
       "      <th>Train Predictions</th>\n",
       "      <th>Actuals</th>\n",
       "    </tr>\n",
       "  </thead>\n",
       "  <tbody>\n",
       "    <tr>\n",
       "      <th>0</th>\n",
       "      <td>2.425830</td>\n",
       "      <td>2.3800</td>\n",
       "    </tr>\n",
       "    <tr>\n",
       "      <th>1</th>\n",
       "      <td>2.483165</td>\n",
       "      <td>2.2610</td>\n",
       "    </tr>\n",
       "    <tr>\n",
       "      <th>2</th>\n",
       "      <td>2.506627</td>\n",
       "      <td>2.3590</td>\n",
       "    </tr>\n",
       "    <tr>\n",
       "      <th>3</th>\n",
       "      <td>2.478499</td>\n",
       "      <td>2.5840</td>\n",
       "    </tr>\n",
       "    <tr>\n",
       "      <th>4</th>\n",
       "      <td>2.490279</td>\n",
       "      <td>2.6590</td>\n",
       "    </tr>\n",
       "    <tr>\n",
       "      <th>5</th>\n",
       "      <td>2.447786</td>\n",
       "      <td>2.5500</td>\n",
       "    </tr>\n",
       "    <tr>\n",
       "      <th>6</th>\n",
       "      <td>2.594772</td>\n",
       "      <td>2.5930</td>\n",
       "    </tr>\n",
       "    <tr>\n",
       "      <th>7</th>\n",
       "      <td>2.665710</td>\n",
       "      <td>2.7340</td>\n",
       "    </tr>\n",
       "    <tr>\n",
       "      <th>8</th>\n",
       "      <td>2.676982</td>\n",
       "      <td>2.6375</td>\n",
       "    </tr>\n",
       "    <tr>\n",
       "      <th>9</th>\n",
       "      <td>2.658079</td>\n",
       "      <td>2.7020</td>\n",
       "    </tr>\n",
       "    <tr>\n",
       "      <th>10</th>\n",
       "      <td>2.733418</td>\n",
       "      <td>2.7060</td>\n",
       "    </tr>\n",
       "    <tr>\n",
       "      <th>11</th>\n",
       "      <td>2.745543</td>\n",
       "      <td>2.6540</td>\n",
       "    </tr>\n",
       "    <tr>\n",
       "      <th>12</th>\n",
       "      <td>2.722612</td>\n",
       "      <td>2.6800</td>\n",
       "    </tr>\n",
       "    <tr>\n",
       "      <th>13</th>\n",
       "      <td>2.738215</td>\n",
       "      <td>2.7840</td>\n",
       "    </tr>\n",
       "    <tr>\n",
       "      <th>14</th>\n",
       "      <td>2.728278</td>\n",
       "      <td>2.6810</td>\n",
       "    </tr>\n",
       "    <tr>\n",
       "      <th>15</th>\n",
       "      <td>2.737850</td>\n",
       "      <td>2.6220</td>\n",
       "    </tr>\n",
       "    <tr>\n",
       "      <th>16</th>\n",
       "      <td>2.780491</td>\n",
       "      <td>2.6630</td>\n",
       "    </tr>\n",
       "    <tr>\n",
       "      <th>17</th>\n",
       "      <td>2.748819</td>\n",
       "      <td>2.5070</td>\n",
       "    </tr>\n",
       "    <tr>\n",
       "      <th>18</th>\n",
       "      <td>2.686872</td>\n",
       "      <td>2.4930</td>\n",
       "    </tr>\n",
       "    <tr>\n",
       "      <th>19</th>\n",
       "      <td>2.696246</td>\n",
       "      <td>1.5120</td>\n",
       "    </tr>\n",
       "    <tr>\n",
       "      <th>20</th>\n",
       "      <td>2.600708</td>\n",
       "      <td>3.9420</td>\n",
       "    </tr>\n",
       "    <tr>\n",
       "      <th>21</th>\n",
       "      <td>3.443480</td>\n",
       "      <td>2.9330</td>\n",
       "    </tr>\n",
       "    <tr>\n",
       "      <th>22</th>\n",
       "      <td>3.929214</td>\n",
       "      <td>2.4780</td>\n",
       "    </tr>\n",
       "    <tr>\n",
       "      <th>23</th>\n",
       "      <td>2.930412</td>\n",
       "      <td>2.1220</td>\n",
       "    </tr>\n",
       "    <tr>\n",
       "      <th>24</th>\n",
       "      <td>2.770747</td>\n",
       "      <td>2.2880</td>\n",
       "    </tr>\n",
       "    <tr>\n",
       "      <th>25</th>\n",
       "      <td>2.369502</td>\n",
       "      <td>2.2690</td>\n",
       "    </tr>\n",
       "    <tr>\n",
       "      <th>26</th>\n",
       "      <td>2.571208</td>\n",
       "      <td>2.2100</td>\n",
       "    </tr>\n",
       "    <tr>\n",
       "      <th>27</th>\n",
       "      <td>2.305549</td>\n",
       "      <td>2.0860</td>\n",
       "    </tr>\n",
       "    <tr>\n",
       "      <th>28</th>\n",
       "      <td>2.384280</td>\n",
       "      <td>2.1710</td>\n",
       "    </tr>\n",
       "    <tr>\n",
       "      <th>29</th>\n",
       "      <td>2.406358</td>\n",
       "      <td>2.3650</td>\n",
       "    </tr>\n",
       "  </tbody>\n",
       "</table>\n",
       "</div>"
      ],
      "text/plain": [
       "    Train Predictions  Actuals\n",
       "0            2.425830   2.3800\n",
       "1            2.483165   2.2610\n",
       "2            2.506627   2.3590\n",
       "3            2.478499   2.5840\n",
       "4            2.490279   2.6590\n",
       "5            2.447786   2.5500\n",
       "6            2.594772   2.5930\n",
       "7            2.665710   2.7340\n",
       "8            2.676982   2.6375\n",
       "9            2.658079   2.7020\n",
       "10           2.733418   2.7060\n",
       "11           2.745543   2.6540\n",
       "12           2.722612   2.6800\n",
       "13           2.738215   2.7840\n",
       "14           2.728278   2.6810\n",
       "15           2.737850   2.6220\n",
       "16           2.780491   2.6630\n",
       "17           2.748819   2.5070\n",
       "18           2.686872   2.4930\n",
       "19           2.696246   1.5120\n",
       "20           2.600708   3.9420\n",
       "21           3.443480   2.9330\n",
       "22           3.929214   2.4780\n",
       "23           2.930412   2.1220\n",
       "24           2.770747   2.2880\n",
       "25           2.369502   2.2690\n",
       "26           2.571208   2.2100\n",
       "27           2.305549   2.0860\n",
       "28           2.384280   2.1710\n",
       "29           2.406358   2.3650"
      ]
     },
     "execution_count": 26,
     "metadata": {},
     "output_type": "execute_result"
    }
   ],
   "source": [
    "train_predictions = model11.predict(X_train_normalized).flatten()\n",
    "train_results = pd.DataFrame(data={\"Train Predictions\": train_predictions, \"Actuals\": y_train.flatten()})\n",
    "train_results[:30]"
   ]
  },
  {
   "cell_type": "code",
   "execution_count": 27,
   "id": "a6a76a69",
   "metadata": {
    "scrolled": true
   },
   "outputs": [
    {
     "data": {
      "text/plain": [
       "[<matplotlib.lines.Line2D at 0x1c629bfb220>]"
      ]
     },
     "execution_count": 27,
     "metadata": {},
     "output_type": "execute_result"
    },
    {
     "data": {
      "image/png": "[encoded data removed]",
      "text/plain": [
       "<Figure size 640x480 with 1 Axes>"
      ]
     },
     "metadata": {},
     "output_type": "display_data"
    }
   ],
   "source": [
    "plt.plot(train_results[\"Train Predictions\"][500:600])\n",
    "plt.plot(train_results[\"Actuals\"][500:600])"
   ]
  },
  {
   "cell_type": "code",
   "execution_count": 28,
   "id": "075b63c2",
   "metadata": {},
   "outputs": [
    {
     "name": "stdout",
     "output_type": "stream",
     "text": [
      "183/183 [==============================] - 0s 2ms/step\n"
     ]
    },
    {
     "data": {
      "text/html": [
       "<div>\n",
       "<style scoped>\n",
       "    .dataframe tbody tr th:only-of-type {\n",
       "        vertical-align: middle;\n",
       "    }\n",
       "\n",
       "    .dataframe tbody tr th {\n",
       "        vertical-align: top;\n",
       "    }\n",
       "\n",
       "    .dataframe thead th {\n",
       "        text-align: right;\n",
       "    }\n",
       "</style>\n",
       "<table border=\"1\" class=\"dataframe\">\n",
       "  <thead>\n",
       "    <tr style=\"text-align: right;\">\n",
       "      <th></th>\n",
       "      <th>Val Predictions</th>\n",
       "      <th>Actuals</th>\n",
       "    </tr>\n",
       "  </thead>\n",
       "  <tbody>\n",
       "    <tr>\n",
       "      <th>0</th>\n",
       "      <td>3.924983</td>\n",
       "      <td>3.79186</td>\n",
       "    </tr>\n",
       "    <tr>\n",
       "      <th>1</th>\n",
       "      <td>3.760676</td>\n",
       "      <td>3.67819</td>\n",
       "    </tr>\n",
       "    <tr>\n",
       "      <th>2</th>\n",
       "      <td>3.763391</td>\n",
       "      <td>3.83377</td>\n",
       "    </tr>\n",
       "    <tr>\n",
       "      <th>3</th>\n",
       "      <td>3.739616</td>\n",
       "      <td>3.81646</td>\n",
       "    </tr>\n",
       "    <tr>\n",
       "      <th>4</th>\n",
       "      <td>3.790337</td>\n",
       "      <td>3.78432</td>\n",
       "    </tr>\n",
       "    <tr>\n",
       "      <th>...</th>\n",
       "      <td>...</td>\n",
       "      <td>...</td>\n",
       "    </tr>\n",
       "    <tr>\n",
       "      <th>5827</th>\n",
       "      <td>3.938009</td>\n",
       "      <td>3.98899</td>\n",
       "    </tr>\n",
       "    <tr>\n",
       "      <th>5828</th>\n",
       "      <td>3.935452</td>\n",
       "      <td>4.10313</td>\n",
       "    </tr>\n",
       "    <tr>\n",
       "      <th>5829</th>\n",
       "      <td>3.959553</td>\n",
       "      <td>4.06409</td>\n",
       "    </tr>\n",
       "    <tr>\n",
       "      <th>5830</th>\n",
       "      <td>4.015121</td>\n",
       "      <td>4.00981</td>\n",
       "    </tr>\n",
       "    <tr>\n",
       "      <th>5831</th>\n",
       "      <td>4.006284</td>\n",
       "      <td>4.11471</td>\n",
       "    </tr>\n",
       "  </tbody>\n",
       "</table>\n",
       "<p>5832 rows × 2 columns</p>\n",
       "</div>"
      ],
      "text/plain": [
       "      Val Predictions  Actuals\n",
       "0            3.924983  3.79186\n",
       "1            3.760676  3.67819\n",
       "2            3.763391  3.83377\n",
       "3            3.739616  3.81646\n",
       "4            3.790337  3.78432\n",
       "...               ...      ...\n",
       "5827         3.938009  3.98899\n",
       "5828         3.935452  4.10313\n",
       "5829         3.959553  4.06409\n",
       "5830         4.015121  4.00981\n",
       "5831         4.006284  4.11471\n",
       "\n",
       "[5832 rows x 2 columns]"
      ]
     },
     "execution_count": 28,
     "metadata": {},
     "output_type": "execute_result"
    }
   ],
   "source": [
    "val_predictions=model11.predict(X_val_normalized).flatten()\n",
    "val_results=pd.DataFrame(data={\"Val Predictions\": val_predictions,\"Actuals\":y_val.flatten()})\n",
    "val_results"
   ]
  },
  {
   "cell_type": "code",
   "execution_count": 29,
   "id": "829f3878",
   "metadata": {},
   "outputs": [
    {
     "data": {
      "text/plain": [
       "[<matplotlib.lines.Line2D at 0x1c629c98f40>]"
      ]
     },
     "execution_count": 29,
     "metadata": {},
     "output_type": "execute_result"
    },
    {
     "data": {
      "image/png": "[encoded data removed]",
      "text/plain": [
       "<Figure size 640x480 with 1 Axes>"
      ]
     },
     "metadata": {},
     "output_type": "display_data"
    }
   ],
   "source": [
    "plt.plot(val_results[\"Val Predictions\"][:200])\n",
    "plt.plot(val_results[\"Actuals\"][:200])"
   ]
  },
  {
   "cell_type": "code",
   "execution_count": 30,
   "id": "cfcd2f7f",
   "metadata": {},
   "outputs": [
    {
     "name": "stdout",
     "output_type": "stream",
     "text": [
      "183/183 [==============================] - 0s 2ms/step\n"
     ]
    },
    {
     "data": {
      "text/html": [
       "<div>\n",
       "<style scoped>\n",
       "    .dataframe tbody tr th:only-of-type {\n",
       "        vertical-align: middle;\n",
       "    }\n",
       "\n",
       "    .dataframe tbody tr th {\n",
       "        vertical-align: top;\n",
       "    }\n",
       "\n",
       "    .dataframe thead th {\n",
       "        text-align: right;\n",
       "    }\n",
       "</style>\n",
       "<table border=\"1\" class=\"dataframe\">\n",
       "  <thead>\n",
       "    <tr style=\"text-align: right;\">\n",
       "      <th></th>\n",
       "      <th>Test Predictions</th>\n",
       "      <th>Actuals</th>\n",
       "    </tr>\n",
       "  </thead>\n",
       "  <tbody>\n",
       "    <tr>\n",
       "      <th>0</th>\n",
       "      <td>4.011942</td>\n",
       "      <td>4.02613</td>\n",
       "    </tr>\n",
       "    <tr>\n",
       "      <th>1</th>\n",
       "      <td>4.053944</td>\n",
       "      <td>4.03413</td>\n",
       "    </tr>\n",
       "    <tr>\n",
       "      <th>2</th>\n",
       "      <td>4.016503</td>\n",
       "      <td>4.02290</td>\n",
       "    </tr>\n",
       "    <tr>\n",
       "      <th>3</th>\n",
       "      <td>4.019440</td>\n",
       "      <td>4.04984</td>\n",
       "    </tr>\n",
       "    <tr>\n",
       "      <th>4</th>\n",
       "      <td>4.011765</td>\n",
       "      <td>4.03620</td>\n",
       "    </tr>\n",
       "    <tr>\n",
       "      <th>...</th>\n",
       "      <td>...</td>\n",
       "      <td>...</td>\n",
       "    </tr>\n",
       "    <tr>\n",
       "      <th>5828</th>\n",
       "      <td>4.492029</td>\n",
       "      <td>4.53544</td>\n",
       "    </tr>\n",
       "    <tr>\n",
       "      <th>5829</th>\n",
       "      <td>4.463121</td>\n",
       "      <td>4.50937</td>\n",
       "    </tr>\n",
       "    <tr>\n",
       "      <th>5830</th>\n",
       "      <td>4.470188</td>\n",
       "      <td>4.41924</td>\n",
       "    </tr>\n",
       "    <tr>\n",
       "      <th>5831</th>\n",
       "      <td>4.453193</td>\n",
       "      <td>4.49352</td>\n",
       "    </tr>\n",
       "    <tr>\n",
       "      <th>5832</th>\n",
       "      <td>4.402956</td>\n",
       "      <td>4.53100</td>\n",
       "    </tr>\n",
       "  </tbody>\n",
       "</table>\n",
       "<p>5833 rows × 2 columns</p>\n",
       "</div>"
      ],
      "text/plain": [
       "      Test Predictions  Actuals\n",
       "0             4.011942  4.02613\n",
       "1             4.053944  4.03413\n",
       "2             4.016503  4.02290\n",
       "3             4.019440  4.04984\n",
       "4             4.011765  4.03620\n",
       "...                ...      ...\n",
       "5828          4.492029  4.53544\n",
       "5829          4.463121  4.50937\n",
       "5830          4.470188  4.41924\n",
       "5831          4.453193  4.49352\n",
       "5832          4.402956  4.53100\n",
       "\n",
       "[5833 rows x 2 columns]"
      ]
     },
     "execution_count": 30,
     "metadata": {},
     "output_type": "execute_result"
    }
   ],
   "source": [
    "test_predictions=model11.predict(X_test_normalized).flatten()\n",
    "test_results=pd.DataFrame(data={\"Test Predictions\": test_predictions,\"Actuals\":y_test.flatten()})\n",
    "test_results"
   ]
  },
  {
   "cell_type": "code",
   "execution_count": 31,
   "id": "34d1259e",
   "metadata": {
    "scrolled": false
   },
   "outputs": [
    {
     "data": {
      "text/plain": [
       "<matplotlib.legend.Legend at 0x1c629c4af50>"
      ]
     },
     "execution_count": 31,
     "metadata": {},
     "output_type": "execute_result"
    },
    {
     "data": {
      "image/png": "[encoded data removed]",
      "text/plain": [
       "<Figure size 640x480 with 1 Axes>"
      ]
     },
     "metadata": {},
     "output_type": "display_data"
    }
   ],
   "source": [
    "plt.plot(test_results[\"Actuals\"][:200])\n",
    "plt.plot(test_results[\"Test Predictions\"][:200])\n",
    "plt.legend(labels=[\"pred\", \"actual\"])"
   ]
  },
  {
   "cell_type": "code",
   "execution_count": 32,
   "id": "57720419",
   "metadata": {
    "scrolled": true
   },
   "outputs": [
    {
     "name": "stdout",
     "output_type": "stream",
     "text": [
      "Regression Metrics:\n",
      "MAE - Train: 0.14724228300141312\n",
      "MAE - Validation: 0.1268564134196424\n",
      "MAE - Test: 0.11727981734540191\n",
      "MSE - Train: 0.08739247238157115\n",
      "MSE - Validation: 0.10594983940428286\n",
      "MSE - Test: 0.08567388777836324\n",
      "RMSE - Train: 0.29562217843316685\n",
      "RMSE - Validation: 0.32549936928400164\n",
      "RMSE - Test: 0.29270102114335583\n",
      "R^2 Score - Train: 0.9073231395056361\n",
      "R^2 Score - Validation: 0.5270058306443985\n",
      "R^2 Score - Test: 0.5286674981819812\n"
     ]
    }
   ],
   "source": [
    "from sklearn.metrics import mean_absolute_error, mean_squared_error, r2_score\n",
    "import numpy as np\n",
    "\n",
    "# Get the model's predictions\n",
    "y_train_pred = train_predictions\n",
    "y_val_pred = val_predictions\n",
    "y_test_pred =test_predictions\n",
    "\n",
    "# Calculate the regression metrics\n",
    "mae_train = mean_absolute_error(y_train, y_train_pred)\n",
    "mae_val = mean_absolute_error(y_val, y_val_pred)\n",
    "mae_test = mean_absolute_error(y_test, y_test_pred)\n",
    "\n",
    "mse_train = mean_squared_error(y_train, y_train_pred)\n",
    "mse_val = mean_squared_error(y_val, y_val_pred)\n",
    "mse_test = mean_squared_error(y_test, y_test_pred)\n",
    "\n",
    "rmse_train = np.sqrt(mse_train)\n",
    "rmse_val = np.sqrt(mse_val)\n",
    "rmse_test = np.sqrt(mse_test)\n",
    "\n",
    "r2_train = r2_score(y_train, y_train_pred)\n",
    "r2_val = r2_score(y_val, y_val_pred)\n",
    "r2_test = r2_score(y_test, y_test_pred)\n",
    "\n",
    "# Print the results\n",
    "print(\"Regression Metrics:\")\n",
    "print(\"MAE - Train:\", mae_train)\n",
    "print(\"MAE - Validation:\", mae_val)\n",
    "print(\"MAE - Test:\", mae_test)\n",
    "print(\"MSE - Train:\", mse_train)\n",
    "print(\"MSE - Validation:\", mse_val)\n",
    "print(\"MSE - Test:\", mse_test)\n",
    "print(\"RMSE - Train:\", rmse_train)\n",
    "print(\"RMSE - Validation:\", rmse_val)\n",
    "print(\"RMSE - Test:\", rmse_test)\n",
    "print(\"R^2 Score - Train:\", r2_train)\n",
    "print(\"R^2 Score - Validation:\", r2_val)\n",
    "print(\"R^2 Score - Test:\", r2_test)\n"
   ]
  },
  {
   "cell_type": "code",
   "execution_count": null,
   "id": "5cd26e1c",
   "metadata": {},
   "outputs": [],
   "source": []
  }
 ],
 "metadata": {
  "kernelspec": {
   "display_name": "Python 3 (ipykernel)",
   "language": "python",
   "name": "python3"
  },
  "language_info": {
   "codemirror_mode": {
    "name": "ipython",
    "version": 3
   },
   "file_extension": ".py",
   "mimetype": "text/x-python",
   "name": "python",
   "nbconvert_exporter": "python",
   "pygments_lexer": "ipython3",
   "version": "3.10.9"
  }
 },
 "nbformat": 4,
 "nbformat_minor": 5
}
