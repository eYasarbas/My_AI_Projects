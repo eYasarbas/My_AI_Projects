{
 "cells": [
  {
   "cell_type": "markdown",
   "id": "51c21aaa",
   "metadata": {},
   "source": [
    "# Model 12\n",
    "## Model 11 but try solwing overfitting\n",
    "Differences from Model 11: kernel_size changed to 0.03, Adam learning rate changed to 0.003 and batch size changed to 128, epoch changed to 200."
   ]
  },
  {
   "cell_type": "code",
   "execution_count": 1,
   "id": "34a9a615",
   "metadata": {},
   "outputs": [],
   "source": [
    "import pandas as pd\n",
    "import numpy as np\n",
    "import matplotlib.pyplot as plt\n",
    "from sklearn.preprocessing import MinMaxScaler\n",
    "from keras.models import Sequential\n",
    "from keras.layers import LSTM, Dense, Dropout\n",
    "from keras.models import Sequential\n",
    "import matplotlib.pyplot as plt\n",
    "import pandas as pd\n",
    "from sklearn.preprocessing import MinMaxScaler"
   ]
  },
  {
   "cell_type": "code",
   "execution_count": 2,
   "id": "19dacf3a",
   "metadata": {},
   "outputs": [],
   "source": [
    "df_oyak=pd.read_csv(r\"C:\\Users\\denem\\Downloads\\OykBlFarnSstmFn.csv\")"
   ]
  },
  {
   "cell_type": "code",
   "execution_count": 3,
   "id": "04a0a87e",
   "metadata": {
    "scrolled": true
   },
   "outputs": [
    {
     "data": {
      "text/html": [
       "<div>\n",
       "<style scoped>\n",
       "    .dataframe tbody tr th:only-of-type {\n",
       "        vertical-align: middle;\n",
       "    }\n",
       "\n",
       "    .dataframe tbody tr th {\n",
       "        vertical-align: top;\n",
       "    }\n",
       "\n",
       "    .dataframe thead th {\n",
       "        text-align: right;\n",
       "    }\n",
       "</style>\n",
       "<table border=\"1\" class=\"dataframe\">\n",
       "  <thead>\n",
       "    <tr style=\"text-align: right;\">\n",
       "      <th></th>\n",
       "      <th>time</th>\n",
       "      <th>xVRMS</th>\n",
       "      <th>yVRMS</th>\n",
       "      <th>zVRMS</th>\n",
       "      <th>temp</th>\n",
       "      <th>cf</th>\n",
       "      <th>maxCf</th>\n",
       "    </tr>\n",
       "  </thead>\n",
       "  <tbody>\n",
       "    <tr>\n",
       "      <th>0</th>\n",
       "      <td>2022-06-27 11:35:00</td>\n",
       "      <td>2.3975</td>\n",
       "      <td>1.7435</td>\n",
       "      <td>0.448</td>\n",
       "      <td>50.4</td>\n",
       "      <td>2.685</td>\n",
       "      <td>NaN</td>\n",
       "    </tr>\n",
       "    <tr>\n",
       "      <th>1</th>\n",
       "      <td>2022-06-27 11:40:00</td>\n",
       "      <td>2.3110</td>\n",
       "      <td>1.8080</td>\n",
       "      <td>0.524</td>\n",
       "      <td>49.9</td>\n",
       "      <td>2.480</td>\n",
       "      <td>NaN</td>\n",
       "    </tr>\n",
       "    <tr>\n",
       "      <th>2</th>\n",
       "      <td>2022-06-27 11:45:00</td>\n",
       "      <td>2.3520</td>\n",
       "      <td>1.7020</td>\n",
       "      <td>0.451</td>\n",
       "      <td>50.5</td>\n",
       "      <td>2.570</td>\n",
       "      <td>NaN</td>\n",
       "    </tr>\n",
       "    <tr>\n",
       "      <th>3</th>\n",
       "      <td>2022-06-27 11:55:00</td>\n",
       "      <td>2.4500</td>\n",
       "      <td>1.6380</td>\n",
       "      <td>0.469</td>\n",
       "      <td>50.4</td>\n",
       "      <td>2.460</td>\n",
       "      <td>NaN</td>\n",
       "    </tr>\n",
       "    <tr>\n",
       "      <th>4</th>\n",
       "      <td>2022-06-27 12:00:00</td>\n",
       "      <td>2.3680</td>\n",
       "      <td>1.7200</td>\n",
       "      <td>0.436</td>\n",
       "      <td>50.8</td>\n",
       "      <td>2.290</td>\n",
       "      <td>NaN</td>\n",
       "    </tr>\n",
       "  </tbody>\n",
       "</table>\n",
       "</div>"
      ],
      "text/plain": [
       "                  time   xVRMS   yVRMS  zVRMS  temp     cf  maxCf\n",
       "0  2022-06-27 11:35:00  2.3975  1.7435  0.448  50.4  2.685    NaN\n",
       "1  2022-06-27 11:40:00  2.3110  1.8080  0.524  49.9  2.480    NaN\n",
       "2  2022-06-27 11:45:00  2.3520  1.7020  0.451  50.5  2.570    NaN\n",
       "3  2022-06-27 11:55:00  2.4500  1.6380  0.469  50.4  2.460    NaN\n",
       "4  2022-06-27 12:00:00  2.3680  1.7200  0.436  50.8  2.290    NaN"
      ]
     },
     "execution_count": 3,
     "metadata": {},
     "output_type": "execute_result"
    }
   ],
   "source": [
    "df_oyak.head()"
   ]
  },
  {
   "cell_type": "code",
   "execution_count": 4,
   "id": "71107c7d",
   "metadata": {},
   "outputs": [],
   "source": [
    "new_df_oyk=df_oyak.sort_values(\"time\")"
   ]
  },
  {
   "cell_type": "code",
   "execution_count": 5,
   "id": "1f0b8598",
   "metadata": {},
   "outputs": [],
   "source": [
    "df2_x=new_df_oyk[\"xVRMS\"]"
   ]
  },
  {
   "cell_type": "code",
   "execution_count": 6,
   "id": "32658486",
   "metadata": {},
   "outputs": [
    {
     "data": {
      "text/plain": [
       "3"
      ]
     },
     "execution_count": 6,
     "metadata": {},
     "output_type": "execute_result"
    }
   ],
   "source": [
    "df2_x.isnull().sum()"
   ]
  },
  {
   "cell_type": "code",
   "execution_count": 7,
   "id": "0bef9ac6",
   "metadata": {},
   "outputs": [],
   "source": [
    "df2_x=df2_x.fillna(df2_x.mean())"
   ]
  },
  {
   "cell_type": "code",
   "execution_count": 8,
   "id": "023dee5b",
   "metadata": {},
   "outputs": [
    {
     "data": {
      "text/plain": [
       "0"
      ]
     },
     "execution_count": 8,
     "metadata": {},
     "output_type": "execute_result"
    }
   ],
   "source": [
    "df2_x.isnull().sum()"
   ]
  },
  {
   "cell_type": "code",
   "execution_count": 9,
   "id": "5613f3ae",
   "metadata": {},
   "outputs": [],
   "source": [
    "df2_x.index = pd.to_datetime(new_df_oyk[\"time\"])"
   ]
  },
  {
   "cell_type": "code",
   "execution_count": 10,
   "id": "778a72be",
   "metadata": {
    "scrolled": true
   },
   "outputs": [
    {
     "data": {
      "text/plain": [
       "time\n",
       "2023-04-24 21:10:00    4.53544\n",
       "2023-04-24 21:15:00    4.50937\n",
       "2023-04-24 21:20:00    4.41924\n",
       "2023-04-24 21:25:00    4.49352\n",
       "2023-04-24 21:30:00    4.53100\n",
       "Name: xVRMS, dtype: float64"
      ]
     },
     "execution_count": 10,
     "metadata": {},
     "output_type": "execute_result"
    }
   ],
   "source": [
    "df2_x.tail()"
   ]
  },
  {
   "cell_type": "code",
   "execution_count": 11,
   "id": "93bde5eb",
   "metadata": {},
   "outputs": [
    {
     "data": {
      "text/plain": [
       "pandas.core.series.Series"
      ]
     },
     "execution_count": 11,
     "metadata": {},
     "output_type": "execute_result"
    }
   ],
   "source": [
    "type(df2_x)"
   ]
  },
  {
   "cell_type": "code",
   "execution_count": 12,
   "id": "418ed682",
   "metadata": {},
   "outputs": [],
   "source": [
    "def clean_limit(df_column, low_limit, up_limit=None):\n",
    "    if up_limit is None:\n",
    "        filtered = df_column[(df_column >= low_limit)]\n",
    "        \n",
    "    else:\n",
    "        filtered = df_column.loc[(df_column >= low_limit) & (df_column <= up_limit)]\n",
    "    return filtered"
   ]
  },
  {
   "cell_type": "code",
   "execution_count": 13,
   "id": "03082a69",
   "metadata": {},
   "outputs": [],
   "source": [
    "df2_x=clean_limit(df2_x,low_limit=0.5)"
   ]
  },
  {
   "cell_type": "code",
   "execution_count": 14,
   "id": "7a3f0529",
   "metadata": {},
   "outputs": [
    {
     "data": {
      "text/plain": [
       "58688"
      ]
     },
     "execution_count": 14,
     "metadata": {},
     "output_type": "execute_result"
    }
   ],
   "source": [
    "len(df2_x)"
   ]
  },
  {
   "cell_type": "markdown",
   "id": "bb83ec4d",
   "metadata": {},
   "source": [
    "## 3 sigma"
   ]
  },
  {
   "cell_type": "code",
   "execution_count": 15,
   "id": "de24a3ca",
   "metadata": {
    "scrolled": true
   },
   "outputs": [
    {
     "data": {
      "text/plain": [
       "(3.522406619639381, 0.9837945762157837, 6.473790348286732, 0.5710228909920296)"
      ]
     },
     "execution_count": 15,
     "metadata": {},
     "output_type": "execute_result"
    }
   ],
   "source": [
    "process_clm = df2_x\n",
    "process_clm_mean = process_clm.mean()\n",
    "process_clm_std = process_clm.std()\n",
    "\n",
    "up_limit = process_clm_mean + 3 * process_clm_std\n",
    "low_limit = process_clm_mean - 3 * process_clm_std\n",
    "\n",
    "process_clm_mean,process_clm_std,up_limit,low_limit"
   ]
  },
  {
   "cell_type": "code",
   "execution_count": 16,
   "id": "1e67e4f0",
   "metadata": {},
   "outputs": [],
   "source": [
    "df2_x=clean_limit(df2_x,low_limit=low_limit,up_limit=up_limit)"
   ]
  },
  {
   "cell_type": "code",
   "execution_count": 34,
   "id": "5429539d",
   "metadata": {
    "scrolled": true
   },
   "outputs": [
    {
     "data": {
      "text/plain": [
       "58328"
      ]
     },
     "execution_count": 34,
     "metadata": {},
     "output_type": "execute_result"
    }
   ],
   "source": [
    "len(df2_x)"
   ]
  },
  {
   "cell_type": "code",
   "execution_count": 18,
   "id": "ef18a348",
   "metadata": {},
   "outputs": [
    {
     "data": {
      "text/plain": [
       "6.473"
      ]
     },
     "execution_count": 18,
     "metadata": {},
     "output_type": "execute_result"
    }
   ],
   "source": [
    "max_s=df2_x.idxmax()\n",
    "df2_x[ max_s]"
   ]
  },
  {
   "cell_type": "code",
   "execution_count": null,
   "id": "40a5f141",
   "metadata": {},
   "outputs": [],
   "source": []
  },
  {
   "cell_type": "code",
   "execution_count": 19,
   "id": "482ebc67",
   "metadata": {
    "scrolled": true
   },
   "outputs": [
    {
     "data": {
      "image/png": "[encoded data removed]",
      "text/plain": [
       "<Figure size 640x480 with 4 Axes>"
      ]
     },
     "metadata": {},
     "output_type": "display_data"
    }
   ],
   "source": [
    "from statsmodels.tsa.seasonal import seasonal_decompose\n",
    "\n",
    "result = seasonal_decompose(df2_x, model='multiplicative',period=4096)\n",
    "result.plot()\n",
    "plt.show()"
   ]
  },
  {
   "cell_type": "code",
   "execution_count": 20,
   "id": "c3f895e0",
   "metadata": {},
   "outputs": [],
   "source": [
    "WINDOW_SIZE=5"
   ]
  },
  {
   "cell_type": "code",
   "execution_count": 21,
   "id": "9c6d4187",
   "metadata": {},
   "outputs": [],
   "source": [
    "def df_to_X_y(df, window_size=5):\n",
    "  \"\"\"\n",
    "  Converts a pandas DataFrame to a tuple of NumPy arrays, where X is the input data and y is the target data.\n",
    "\n",
    "  Args:\n",
    "    df: A pandas DataFrame.\n",
    "    window_size: The size of the sliding window.\n",
    "\n",
    "  Returns:\n",
    "    A tuple of NumPy arrays, where X is the input data and y is the target data.\n",
    "  \"\"\"\n",
    "\n",
    "  # Convert the DataFrame to a NumPy array.\n",
    "  df_as_np = df.to_numpy()\n",
    "\n",
    "  # Create the input and target data.\n",
    "  X = []\n",
    "  y = []\n",
    "  for i in range(len(df_as_np) - window_size):\n",
    "    row = df_as_np[i:i + window_size]\n",
    "    X.append(row)\n",
    "    label = df_as_np[i + window_size]\n",
    "    y.append(label)\n",
    "\n",
    "  # Return the input and target data as NumPy arrays.\n",
    "  return np.array(X), np.array(y)"
   ]
  },
  {
   "cell_type": "code",
   "execution_count": 22,
   "id": "a9c56685",
   "metadata": {},
   "outputs": [
    {
     "data": {
      "text/plain": [
       "((58323, 5), (58323,))"
      ]
     },
     "execution_count": 22,
     "metadata": {},
     "output_type": "execute_result"
    }
   ],
   "source": [
    "X,y =df_to_X_y(df2_x,WINDOW_SIZE)\n",
    "X.shape,y.shape"
   ]
  },
  {
   "cell_type": "code",
   "execution_count": 23,
   "id": "1a34aa38",
   "metadata": {},
   "outputs": [
    {
     "data": {
      "text/plain": [
       "((46658, 5), (46658,), (5832, 5), (5832,), (5833, 5), (5833,))"
      ]
     },
     "execution_count": 23,
     "metadata": {},
     "output_type": "execute_result"
    }
   ],
   "source": [
    "total_size = len(X)\n",
    "train_size = int(total_size * 0.8)\n",
    "val_size = int(total_size * 0.1)\n",
    "\n",
    "X_train, y_train = X[:train_size], y[:train_size]  # %80\n",
    "X_val, y_val = X[train_size:train_size+val_size], y[train_size:train_size+val_size]  # %10\n",
    "X_test, y_test = X[train_size+val_size:], y[train_size+val_size:]  # %10\n",
    "\n",
    "X_train.shape, y_train.shape, X_val.shape, y_val.shape, X_test.shape, y_test.shape"
   ]
  },
  {
   "cell_type": "code",
   "execution_count": 24,
   "id": "ad692eb8",
   "metadata": {},
   "outputs": [],
   "source": [
    "# Assuming X_train, X_val, and X_test are your input features\n",
    "# Assuming y_train, y_val, and y_test are your target variables\n",
    "\n",
    "# Create a MinMaxScaler object for the input features\n",
    "scaler = MinMaxScaler()\n",
    "\n",
    "# Fit the scaler on the training input features\n",
    "scaler.fit(X_train)\n",
    "\n",
    "# Apply normalization to the input features\n",
    "X_train_normalized = scaler.transform(X_train)\n",
    "X_val_normalized = scaler.transform(X_val)\n",
    "X_test_normalized = scaler.transform(X_test)"
   ]
  },
  {
   "cell_type": "code",
   "execution_count": 25,
   "id": "9f3fa756",
   "metadata": {},
   "outputs": [],
   "source": [
    "from tensorflow.keras.models import Sequential\n",
    "from tensorflow.keras.layers import *\n",
    "from tensorflow.keras.callbacks import ModelCheckpoint\n",
    "from tensorflow.keras.losses import MeanSquaredError\n",
    "from tensorflow.keras.metrics import RootMeanSquaredError\n",
    "from tensorflow.keras.optimizers import Adam"
   ]
  },
  {
   "cell_type": "code",
   "execution_count": 26,
   "id": "ad24e93c",
   "metadata": {
    "scrolled": true
   },
   "outputs": [
    {
     "name": "stdout",
     "output_type": "stream",
     "text": [
      "Epoch 1/200\n",
      "365/365 [==============================] - 10s 18ms/step - loss: 0.9496 - val_loss: 0.2637\n",
      "Epoch 2/200\n",
      "365/365 [==============================] - 6s 15ms/step - loss: 0.2678 - val_loss: 0.2191\n",
      "Epoch 3/200\n",
      "365/365 [==============================] - 6s 17ms/step - loss: 0.2323 - val_loss: 0.2187\n",
      "Epoch 4/200\n",
      "365/365 [==============================] - 6s 16ms/step - loss: 0.2216 - val_loss: 0.2074\n",
      "Epoch 5/200\n",
      "365/365 [==============================] - 6s 16ms/step - loss: 0.1974 - val_loss: 0.1875\n",
      "Epoch 6/200\n",
      "365/365 [==============================] - 6s 17ms/step - loss: 0.1837 - val_loss: 0.1777\n",
      "Epoch 7/200\n",
      "365/365 [==============================] - 6s 15ms/step - loss: 0.1684 - val_loss: 0.1828\n",
      "Epoch 8/200\n",
      "365/365 [==============================] - 6s 15ms/step - loss: 0.1620 - val_loss: 0.1641\n",
      "Epoch 9/200\n",
      "365/365 [==============================] - 6s 16ms/step - loss: 0.1565 - val_loss: 0.1704\n",
      "Epoch 10/200\n",
      "365/365 [==============================] - 6s 15ms/step - loss: 0.1572 - val_loss: 0.1731\n",
      "Epoch 11/200\n",
      "365/365 [==============================] - 5s 15ms/step - loss: 0.1495 - val_loss: 0.1992\n",
      "Epoch 12/200\n",
      "365/365 [==============================] - 5s 14ms/step - loss: 0.1497 - val_loss: 0.1651\n",
      "Epoch 13/200\n",
      "365/365 [==============================] - 5s 13ms/step - loss: 0.1486 - val_loss: 0.1654\n",
      "Epoch 14/200\n",
      "365/365 [==============================] - 5s 13ms/step - loss: 0.1507 - val_loss: 0.1522\n",
      "Epoch 15/200\n",
      "365/365 [==============================] - 4s 12ms/step - loss: 0.1437 - val_loss: 0.1681\n",
      "Epoch 16/200\n",
      "365/365 [==============================] - 4s 12ms/step - loss: 0.1445 - val_loss: 0.1634\n",
      "Epoch 17/200\n",
      "365/365 [==============================] - 4s 12ms/step - loss: 0.1419 - val_loss: 0.1556\n",
      "Epoch 18/200\n",
      "365/365 [==============================] - 4s 11ms/step - loss: 0.1440 - val_loss: 0.1548\n",
      "Epoch 19/200\n",
      "365/365 [==============================] - 5s 14ms/step - loss: 0.1408 - val_loss: 0.1676\n",
      "Epoch 20/200\n",
      "365/365 [==============================] - 5s 15ms/step - loss: 0.1419 - val_loss: 0.1771\n",
      "Epoch 21/200\n",
      "365/365 [==============================] - 6s 17ms/step - loss: 0.1395 - val_loss: 0.1530\n",
      "Epoch 22/200\n",
      "365/365 [==============================] - 6s 15ms/step - loss: 0.1379 - val_loss: 0.1569\n",
      "Epoch 23/200\n",
      "365/365 [==============================] - 6s 16ms/step - loss: 0.1363 - val_loss: 0.1632\n",
      "Epoch 24/200\n",
      "365/365 [==============================] - 5s 14ms/step - loss: 0.1372 - val_loss: 0.1545\n"
     ]
    },
    {
     "data": {
      "text/plain": [
       "<keras.callbacks.History at 0x1b684fbd930>"
      ]
     },
     "execution_count": 26,
     "metadata": {},
     "output_type": "execute_result"
    }
   ],
   "source": [
    "from sklearn.preprocessing import MinMaxScaler\n",
    "from keras.callbacks import EarlyStopping\n",
    "from keras import regularizers\n",
    "from keras.engine.input_layer import InputLayer\n",
    "\n",
    "# Rest of your code\n",
    "model12 = Sequential()\n",
    "model12.add(InputLayer((WINDOW_SIZE, 1)))\n",
    "model12.add(LSTM(128, return_sequences=True, kernel_regularizer=regularizers.l2(0.03)))\n",
    "model12.add(Dropout(0.2))\n",
    "model12.add(LSTM(64, kernel_regularizer=regularizers.l2(0.03)))\n",
    "model12.add(Dropout(0.2))\n",
    "model12.add(Dense(8, activation='relu', kernel_regularizer=regularizers.l2(0.03)))\n",
    "model12.add(Dense(1, activation='linear'))\n",
    "\n",
    "# Compile the model\n",
    "model12.compile(loss=\"mean_squared_error\", optimizer=Adam(learning_rate=0.003))\n",
    "best_model_weights = ModelCheckpoint(\"model12.h5\", monitor=\"val_loss\", save_best_only=True)\n",
    "# Apply early stopping to prevent overfitting\n",
    "early_stopping = EarlyStopping(patience=10, restore_best_weights=True)\n",
    "\n",
    "# Fit the model\n",
    "model12.fit(X_train_normalized, y_train, batch_size=128, epochs=200, validation_data=(X_val_normalized, y_val), callbacks=[best_model_weights, early_stopping])\n",
    "\n"
   ]
  },
  {
   "cell_type": "code",
   "execution_count": 27,
   "id": "fe733d35",
   "metadata": {
    "scrolled": true
   },
   "outputs": [
    {
     "name": "stdout",
     "output_type": "stream",
     "text": [
      "1459/1459 [==============================] - 3s 2ms/step\n"
     ]
    },
    {
     "data": {
      "text/html": [
       "<div>\n",
       "<style scoped>\n",
       "    .dataframe tbody tr th:only-of-type {\n",
       "        vertical-align: middle;\n",
       "    }\n",
       "\n",
       "    .dataframe tbody tr th {\n",
       "        vertical-align: top;\n",
       "    }\n",
       "\n",
       "    .dataframe thead th {\n",
       "        text-align: right;\n",
       "    }\n",
       "</style>\n",
       "<table border=\"1\" class=\"dataframe\">\n",
       "  <thead>\n",
       "    <tr style=\"text-align: right;\">\n",
       "      <th></th>\n",
       "      <th>Train Predictions</th>\n",
       "      <th>Actuals</th>\n",
       "    </tr>\n",
       "  </thead>\n",
       "  <tbody>\n",
       "    <tr>\n",
       "      <th>0</th>\n",
       "      <td>2.599092</td>\n",
       "      <td>2.3800</td>\n",
       "    </tr>\n",
       "    <tr>\n",
       "      <th>1</th>\n",
       "      <td>2.578684</td>\n",
       "      <td>2.2610</td>\n",
       "    </tr>\n",
       "    <tr>\n",
       "      <th>2</th>\n",
       "      <td>2.587048</td>\n",
       "      <td>2.3590</td>\n",
       "    </tr>\n",
       "    <tr>\n",
       "      <th>3</th>\n",
       "      <td>2.598189</td>\n",
       "      <td>2.5840</td>\n",
       "    </tr>\n",
       "    <tr>\n",
       "      <th>4</th>\n",
       "      <td>2.560695</td>\n",
       "      <td>2.6590</td>\n",
       "    </tr>\n",
       "    <tr>\n",
       "      <th>5</th>\n",
       "      <td>2.615473</td>\n",
       "      <td>2.5500</td>\n",
       "    </tr>\n",
       "    <tr>\n",
       "      <th>6</th>\n",
       "      <td>2.652852</td>\n",
       "      <td>2.5930</td>\n",
       "    </tr>\n",
       "    <tr>\n",
       "      <th>7</th>\n",
       "      <td>2.707372</td>\n",
       "      <td>2.7340</td>\n",
       "    </tr>\n",
       "    <tr>\n",
       "      <th>8</th>\n",
       "      <td>2.786335</td>\n",
       "      <td>2.6375</td>\n",
       "    </tr>\n",
       "    <tr>\n",
       "      <th>9</th>\n",
       "      <td>2.841584</td>\n",
       "      <td>2.7020</td>\n",
       "    </tr>\n",
       "    <tr>\n",
       "      <th>10</th>\n",
       "      <td>2.820227</td>\n",
       "      <td>2.7060</td>\n",
       "    </tr>\n",
       "    <tr>\n",
       "      <th>11</th>\n",
       "      <td>2.841904</td>\n",
       "      <td>2.6540</td>\n",
       "    </tr>\n",
       "    <tr>\n",
       "      <th>12</th>\n",
       "      <td>2.904210</td>\n",
       "      <td>2.6800</td>\n",
       "    </tr>\n",
       "    <tr>\n",
       "      <th>13</th>\n",
       "      <td>2.863933</td>\n",
       "      <td>2.7840</td>\n",
       "    </tr>\n",
       "    <tr>\n",
       "      <th>14</th>\n",
       "      <td>2.883071</td>\n",
       "      <td>2.6810</td>\n",
       "    </tr>\n",
       "    <tr>\n",
       "      <th>15</th>\n",
       "      <td>2.905098</td>\n",
       "      <td>2.6220</td>\n",
       "    </tr>\n",
       "    <tr>\n",
       "      <th>16</th>\n",
       "      <td>2.893636</td>\n",
       "      <td>2.6630</td>\n",
       "    </tr>\n",
       "    <tr>\n",
       "      <th>17</th>\n",
       "      <td>2.878700</td>\n",
       "      <td>2.5070</td>\n",
       "    </tr>\n",
       "    <tr>\n",
       "      <th>18</th>\n",
       "      <td>2.901014</td>\n",
       "      <td>2.4930</td>\n",
       "    </tr>\n",
       "    <tr>\n",
       "      <th>19</th>\n",
       "      <td>2.831779</td>\n",
       "      <td>1.5120</td>\n",
       "    </tr>\n",
       "    <tr>\n",
       "      <th>20</th>\n",
       "      <td>2.768501</td>\n",
       "      <td>3.9420</td>\n",
       "    </tr>\n",
       "    <tr>\n",
       "      <th>21</th>\n",
       "      <td>2.624572</td>\n",
       "      <td>2.9330</td>\n",
       "    </tr>\n",
       "    <tr>\n",
       "      <th>22</th>\n",
       "      <td>2.758145</td>\n",
       "      <td>2.4780</td>\n",
       "    </tr>\n",
       "    <tr>\n",
       "      <th>23</th>\n",
       "      <td>3.174115</td>\n",
       "      <td>2.1220</td>\n",
       "    </tr>\n",
       "    <tr>\n",
       "      <th>24</th>\n",
       "      <td>2.652666</td>\n",
       "      <td>2.2880</td>\n",
       "    </tr>\n",
       "    <tr>\n",
       "      <th>25</th>\n",
       "      <td>3.163553</td>\n",
       "      <td>2.2690</td>\n",
       "    </tr>\n",
       "    <tr>\n",
       "      <th>26</th>\n",
       "      <td>2.782697</td>\n",
       "      <td>2.2100</td>\n",
       "    </tr>\n",
       "    <tr>\n",
       "      <th>27</th>\n",
       "      <td>2.564511</td>\n",
       "      <td>2.0860</td>\n",
       "    </tr>\n",
       "    <tr>\n",
       "      <th>28</th>\n",
       "      <td>2.442292</td>\n",
       "      <td>2.1710</td>\n",
       "    </tr>\n",
       "    <tr>\n",
       "      <th>29</th>\n",
       "      <td>2.464322</td>\n",
       "      <td>2.3650</td>\n",
       "    </tr>\n",
       "  </tbody>\n",
       "</table>\n",
       "</div>"
      ],
      "text/plain": [
       "    Train Predictions  Actuals\n",
       "0            2.599092   2.3800\n",
       "1            2.578684   2.2610\n",
       "2            2.587048   2.3590\n",
       "3            2.598189   2.5840\n",
       "4            2.560695   2.6590\n",
       "5            2.615473   2.5500\n",
       "6            2.652852   2.5930\n",
       "7            2.707372   2.7340\n",
       "8            2.786335   2.6375\n",
       "9            2.841584   2.7020\n",
       "10           2.820227   2.7060\n",
       "11           2.841904   2.6540\n",
       "12           2.904210   2.6800\n",
       "13           2.863933   2.7840\n",
       "14           2.883071   2.6810\n",
       "15           2.905098   2.6220\n",
       "16           2.893636   2.6630\n",
       "17           2.878700   2.5070\n",
       "18           2.901014   2.4930\n",
       "19           2.831779   1.5120\n",
       "20           2.768501   3.9420\n",
       "21           2.624572   2.9330\n",
       "22           2.758145   2.4780\n",
       "23           3.174115   2.1220\n",
       "24           2.652666   2.2880\n",
       "25           3.163553   2.2690\n",
       "26           2.782697   2.2100\n",
       "27           2.564511   2.0860\n",
       "28           2.442292   2.1710\n",
       "29           2.464322   2.3650"
      ]
     },
     "execution_count": 27,
     "metadata": {},
     "output_type": "execute_result"
    }
   ],
   "source": [
    "train_predictions = model12.predict(X_train_normalized).flatten()\n",
    "train_results = pd.DataFrame(data={\"Train Predictions\": train_predictions, \"Actuals\": y_train.flatten()})\n",
    "train_results[:30]"
   ]
  },
  {
   "cell_type": "code",
   "execution_count": 28,
   "id": "a6a76a69",
   "metadata": {
    "scrolled": true
   },
   "outputs": [
    {
     "data": {
      "text/plain": [
       "[<matplotlib.lines.Line2D at 0x1b684970eb0>]"
      ]
     },
     "execution_count": 28,
     "metadata": {},
     "output_type": "execute_result"
    },
    {
     "data": {
      "image/png": "[encoded data removed]",
      "text/plain": [
       "<Figure size 640x480 with 1 Axes>"
      ]
     },
     "metadata": {},
     "output_type": "display_data"
    }
   ],
   "source": [
    "plt.plot(train_results[\"Train Predictions\"][500:600])\n",
    "plt.plot(train_results[\"Actuals\"][500:600])"
   ]
  },
  {
   "cell_type": "code",
   "execution_count": 29,
   "id": "075b63c2",
   "metadata": {},
   "outputs": [
    {
     "name": "stdout",
     "output_type": "stream",
     "text": [
      "183/183 [==============================] - 0s 2ms/step\n"
     ]
    },
    {
     "data": {
      "text/html": [
       "<div>\n",
       "<style scoped>\n",
       "    .dataframe tbody tr th:only-of-type {\n",
       "        vertical-align: middle;\n",
       "    }\n",
       "\n",
       "    .dataframe tbody tr th {\n",
       "        vertical-align: top;\n",
       "    }\n",
       "\n",
       "    .dataframe thead th {\n",
       "        text-align: right;\n",
       "    }\n",
       "</style>\n",
       "<table border=\"1\" class=\"dataframe\">\n",
       "  <thead>\n",
       "    <tr style=\"text-align: right;\">\n",
       "      <th></th>\n",
       "      <th>Val Predictions</th>\n",
       "      <th>Actuals</th>\n",
       "    </tr>\n",
       "  </thead>\n",
       "  <tbody>\n",
       "    <tr>\n",
       "      <th>0</th>\n",
       "      <td>3.948474</td>\n",
       "      <td>3.79186</td>\n",
       "    </tr>\n",
       "    <tr>\n",
       "      <th>1</th>\n",
       "      <td>3.801164</td>\n",
       "      <td>3.67819</td>\n",
       "    </tr>\n",
       "    <tr>\n",
       "      <th>2</th>\n",
       "      <td>3.786780</td>\n",
       "      <td>3.83377</td>\n",
       "    </tr>\n",
       "    <tr>\n",
       "      <th>3</th>\n",
       "      <td>3.781197</td>\n",
       "      <td>3.81646</td>\n",
       "    </tr>\n",
       "    <tr>\n",
       "      <th>4</th>\n",
       "      <td>3.774678</td>\n",
       "      <td>3.78432</td>\n",
       "    </tr>\n",
       "    <tr>\n",
       "      <th>5</th>\n",
       "      <td>3.817885</td>\n",
       "      <td>3.84871</td>\n",
       "    </tr>\n",
       "    <tr>\n",
       "      <th>6</th>\n",
       "      <td>3.828100</td>\n",
       "      <td>4.01990</td>\n",
       "    </tr>\n",
       "    <tr>\n",
       "      <th>7</th>\n",
       "      <td>3.828440</td>\n",
       "      <td>4.02672</td>\n",
       "    </tr>\n",
       "    <tr>\n",
       "      <th>8</th>\n",
       "      <td>3.887624</td>\n",
       "      <td>4.00919</td>\n",
       "    </tr>\n",
       "    <tr>\n",
       "      <th>9</th>\n",
       "      <td>3.976049</td>\n",
       "      <td>3.99258</td>\n",
       "    </tr>\n",
       "    <tr>\n",
       "      <th>10</th>\n",
       "      <td>4.009340</td>\n",
       "      <td>4.05429</td>\n",
       "    </tr>\n",
       "    <tr>\n",
       "      <th>11</th>\n",
       "      <td>3.998250</td>\n",
       "      <td>4.00247</td>\n",
       "    </tr>\n",
       "    <tr>\n",
       "      <th>12</th>\n",
       "      <td>4.000830</td>\n",
       "      <td>3.84692</td>\n",
       "    </tr>\n",
       "    <tr>\n",
       "      <th>13</th>\n",
       "      <td>4.015011</td>\n",
       "      <td>3.78842</td>\n",
       "    </tr>\n",
       "    <tr>\n",
       "      <th>14</th>\n",
       "      <td>3.965264</td>\n",
       "      <td>3.87782</td>\n",
       "    </tr>\n",
       "    <tr>\n",
       "      <th>15</th>\n",
       "      <td>3.865748</td>\n",
       "      <td>3.90341</td>\n",
       "    </tr>\n",
       "    <tr>\n",
       "      <th>16</th>\n",
       "      <td>3.836555</td>\n",
       "      <td>3.76365</td>\n",
       "    </tr>\n",
       "    <tr>\n",
       "      <th>17</th>\n",
       "      <td>3.874951</td>\n",
       "      <td>3.77096</td>\n",
       "    </tr>\n",
       "    <tr>\n",
       "      <th>18</th>\n",
       "      <td>3.870879</td>\n",
       "      <td>3.89559</td>\n",
       "    </tr>\n",
       "    <tr>\n",
       "      <th>19</th>\n",
       "      <td>3.815739</td>\n",
       "      <td>3.85726</td>\n",
       "    </tr>\n",
       "    <tr>\n",
       "      <th>20</th>\n",
       "      <td>3.821907</td>\n",
       "      <td>3.89597</td>\n",
       "    </tr>\n",
       "    <tr>\n",
       "      <th>21</th>\n",
       "      <td>3.869412</td>\n",
       "      <td>3.96494</td>\n",
       "    </tr>\n",
       "    <tr>\n",
       "      <th>22</th>\n",
       "      <td>3.883605</td>\n",
       "      <td>3.87271</td>\n",
       "    </tr>\n",
       "    <tr>\n",
       "      <th>23</th>\n",
       "      <td>3.909293</td>\n",
       "      <td>3.82471</td>\n",
       "    </tr>\n",
       "    <tr>\n",
       "      <th>24</th>\n",
       "      <td>3.926821</td>\n",
       "      <td>3.86922</td>\n",
       "    </tr>\n",
       "    <tr>\n",
       "      <th>25</th>\n",
       "      <td>3.886466</td>\n",
       "      <td>3.75848</td>\n",
       "    </tr>\n",
       "    <tr>\n",
       "      <th>26</th>\n",
       "      <td>3.856399</td>\n",
       "      <td>3.68854</td>\n",
       "    </tr>\n",
       "    <tr>\n",
       "      <th>27</th>\n",
       "      <td>3.845387</td>\n",
       "      <td>3.70771</td>\n",
       "    </tr>\n",
       "    <tr>\n",
       "      <th>28</th>\n",
       "      <td>3.789627</td>\n",
       "      <td>3.72862</td>\n",
       "    </tr>\n",
       "    <tr>\n",
       "      <th>29</th>\n",
       "      <td>3.745973</td>\n",
       "      <td>3.69890</td>\n",
       "    </tr>\n",
       "  </tbody>\n",
       "</table>\n",
       "</div>"
      ],
      "text/plain": [
       "    Val Predictions  Actuals\n",
       "0          3.948474  3.79186\n",
       "1          3.801164  3.67819\n",
       "2          3.786780  3.83377\n",
       "3          3.781197  3.81646\n",
       "4          3.774678  3.78432\n",
       "5          3.817885  3.84871\n",
       "6          3.828100  4.01990\n",
       "7          3.828440  4.02672\n",
       "8          3.887624  4.00919\n",
       "9          3.976049  3.99258\n",
       "10         4.009340  4.05429\n",
       "11         3.998250  4.00247\n",
       "12         4.000830  3.84692\n",
       "13         4.015011  3.78842\n",
       "14         3.965264  3.87782\n",
       "15         3.865748  3.90341\n",
       "16         3.836555  3.76365\n",
       "17         3.874951  3.77096\n",
       "18         3.870879  3.89559\n",
       "19         3.815739  3.85726\n",
       "20         3.821907  3.89597\n",
       "21         3.869412  3.96494\n",
       "22         3.883605  3.87271\n",
       "23         3.909293  3.82471\n",
       "24         3.926821  3.86922\n",
       "25         3.886466  3.75848\n",
       "26         3.856399  3.68854\n",
       "27         3.845387  3.70771\n",
       "28         3.789627  3.72862\n",
       "29         3.745973  3.69890"
      ]
     },
     "execution_count": 29,
     "metadata": {},
     "output_type": "execute_result"
    }
   ],
   "source": [
    "val_predictions=model12.predict(X_val_normalized).flatten()\n",
    "val_results=pd.DataFrame(data={\"Val Predictions\": val_predictions,\"Actuals\":y_val.flatten()})\n",
    "val_results[:30]"
   ]
  },
  {
   "cell_type": "code",
   "execution_count": 30,
   "id": "829f3878",
   "metadata": {},
   "outputs": [
    {
     "data": {
      "text/plain": [
       "[<matplotlib.lines.Line2D at 0x1b684a00ee0>]"
      ]
     },
     "execution_count": 30,
     "metadata": {},
     "output_type": "execute_result"
    },
    {
     "data": {
      "image/png": "[encoded data removed]",
      "text/plain": [
       "<Figure size 640x480 with 1 Axes>"
      ]
     },
     "metadata": {},
     "output_type": "display_data"
    }
   ],
   "source": [
    "plt.plot(val_results[\"Val Predictions\"][:200])\n",
    "plt.plot(val_results[\"Actuals\"][:200])\n"
   ]
  },
  {
   "cell_type": "code",
   "execution_count": 31,
   "id": "cfcd2f7f",
   "metadata": {},
   "outputs": [
    {
     "name": "stdout",
     "output_type": "stream",
     "text": [
      "183/183 [==============================] - 0s 2ms/step\n"
     ]
    },
    {
     "data": {
      "text/html": [
       "<div>\n",
       "<style scoped>\n",
       "    .dataframe tbody tr th:only-of-type {\n",
       "        vertical-align: middle;\n",
       "    }\n",
       "\n",
       "    .dataframe tbody tr th {\n",
       "        vertical-align: top;\n",
       "    }\n",
       "\n",
       "    .dataframe thead th {\n",
       "        text-align: right;\n",
       "    }\n",
       "</style>\n",
       "<table border=\"1\" class=\"dataframe\">\n",
       "  <thead>\n",
       "    <tr style=\"text-align: right;\">\n",
       "      <th></th>\n",
       "      <th>Test Predictions</th>\n",
       "      <th>Actuals</th>\n",
       "    </tr>\n",
       "  </thead>\n",
       "  <tbody>\n",
       "    <tr>\n",
       "      <th>0</th>\n",
       "      <td>4.044016</td>\n",
       "      <td>4.02613</td>\n",
       "    </tr>\n",
       "    <tr>\n",
       "      <th>1</th>\n",
       "      <td>4.030616</td>\n",
       "      <td>4.03413</td>\n",
       "    </tr>\n",
       "    <tr>\n",
       "      <th>2</th>\n",
       "      <td>4.052787</td>\n",
       "      <td>4.02290</td>\n",
       "    </tr>\n",
       "    <tr>\n",
       "      <th>3</th>\n",
       "      <td>4.032654</td>\n",
       "      <td>4.04984</td>\n",
       "    </tr>\n",
       "    <tr>\n",
       "      <th>4</th>\n",
       "      <td>4.013318</td>\n",
       "      <td>4.03620</td>\n",
       "    </tr>\n",
       "    <tr>\n",
       "      <th>5</th>\n",
       "      <td>4.019304</td>\n",
       "      <td>4.05415</td>\n",
       "    </tr>\n",
       "    <tr>\n",
       "      <th>6</th>\n",
       "      <td>4.026936</td>\n",
       "      <td>4.04369</td>\n",
       "    </tr>\n",
       "    <tr>\n",
       "      <th>7</th>\n",
       "      <td>4.029825</td>\n",
       "      <td>3.93851</td>\n",
       "    </tr>\n",
       "    <tr>\n",
       "      <th>8</th>\n",
       "      <td>4.032231</td>\n",
       "      <td>3.98242</td>\n",
       "    </tr>\n",
       "    <tr>\n",
       "      <th>9</th>\n",
       "      <td>4.006411</td>\n",
       "      <td>4.08432</td>\n",
       "    </tr>\n",
       "    <tr>\n",
       "      <th>10</th>\n",
       "      <td>3.963521</td>\n",
       "      <td>4.07199</td>\n",
       "    </tr>\n",
       "    <tr>\n",
       "      <th>11</th>\n",
       "      <td>3.989394</td>\n",
       "      <td>3.95318</td>\n",
       "    </tr>\n",
       "    <tr>\n",
       "      <th>12</th>\n",
       "      <td>4.044075</td>\n",
       "      <td>3.96407</td>\n",
       "    </tr>\n",
       "    <tr>\n",
       "      <th>13</th>\n",
       "      <td>4.030310</td>\n",
       "      <td>3.90001</td>\n",
       "    </tr>\n",
       "    <tr>\n",
       "      <th>14</th>\n",
       "      <td>3.968637</td>\n",
       "      <td>4.06020</td>\n",
       "    </tr>\n",
       "    <tr>\n",
       "      <th>15</th>\n",
       "      <td>3.939288</td>\n",
       "      <td>3.94941</td>\n",
       "    </tr>\n",
       "    <tr>\n",
       "      <th>16</th>\n",
       "      <td>3.951502</td>\n",
       "      <td>3.95147</td>\n",
       "    </tr>\n",
       "    <tr>\n",
       "      <th>17</th>\n",
       "      <td>3.989346</td>\n",
       "      <td>2.62340</td>\n",
       "    </tr>\n",
       "    <tr>\n",
       "      <th>18</th>\n",
       "      <td>3.961090</td>\n",
       "      <td>1.76100</td>\n",
       "    </tr>\n",
       "    <tr>\n",
       "      <th>19</th>\n",
       "      <td>3.621703</td>\n",
       "      <td>5.38120</td>\n",
       "    </tr>\n",
       "    <tr>\n",
       "      <th>20</th>\n",
       "      <td>3.196058</td>\n",
       "      <td>5.32623</td>\n",
       "    </tr>\n",
       "    <tr>\n",
       "      <th>21</th>\n",
       "      <td>3.254949</td>\n",
       "      <td>4.84471</td>\n",
       "    </tr>\n",
       "    <tr>\n",
       "      <th>22</th>\n",
       "      <td>4.306782</td>\n",
       "      <td>4.52992</td>\n",
       "    </tr>\n",
       "    <tr>\n",
       "      <th>23</th>\n",
       "      <td>4.448817</td>\n",
       "      <td>4.36197</td>\n",
       "    </tr>\n",
       "    <tr>\n",
       "      <th>24</th>\n",
       "      <td>4.469444</td>\n",
       "      <td>3.67624</td>\n",
       "    </tr>\n",
       "    <tr>\n",
       "      <th>25</th>\n",
       "      <td>4.103606</td>\n",
       "      <td>3.67674</td>\n",
       "    </tr>\n",
       "    <tr>\n",
       "      <th>26</th>\n",
       "      <td>4.001929</td>\n",
       "      <td>3.58913</td>\n",
       "    </tr>\n",
       "    <tr>\n",
       "      <th>27</th>\n",
       "      <td>3.700968</td>\n",
       "      <td>3.58107</td>\n",
       "    </tr>\n",
       "    <tr>\n",
       "      <th>28</th>\n",
       "      <td>3.649946</td>\n",
       "      <td>3.68546</td>\n",
       "    </tr>\n",
       "    <tr>\n",
       "      <th>29</th>\n",
       "      <td>3.667457</td>\n",
       "      <td>3.75830</td>\n",
       "    </tr>\n",
       "  </tbody>\n",
       "</table>\n",
       "</div>"
      ],
      "text/plain": [
       "    Test Predictions  Actuals\n",
       "0           4.044016  4.02613\n",
       "1           4.030616  4.03413\n",
       "2           4.052787  4.02290\n",
       "3           4.032654  4.04984\n",
       "4           4.013318  4.03620\n",
       "5           4.019304  4.05415\n",
       "6           4.026936  4.04369\n",
       "7           4.029825  3.93851\n",
       "8           4.032231  3.98242\n",
       "9           4.006411  4.08432\n",
       "10          3.963521  4.07199\n",
       "11          3.989394  3.95318\n",
       "12          4.044075  3.96407\n",
       "13          4.030310  3.90001\n",
       "14          3.968637  4.06020\n",
       "15          3.939288  3.94941\n",
       "16          3.951502  3.95147\n",
       "17          3.989346  2.62340\n",
       "18          3.961090  1.76100\n",
       "19          3.621703  5.38120\n",
       "20          3.196058  5.32623\n",
       "21          3.254949  4.84471\n",
       "22          4.306782  4.52992\n",
       "23          4.448817  4.36197\n",
       "24          4.469444  3.67624\n",
       "25          4.103606  3.67674\n",
       "26          4.001929  3.58913\n",
       "27          3.700968  3.58107\n",
       "28          3.649946  3.68546\n",
       "29          3.667457  3.75830"
      ]
     },
     "execution_count": 31,
     "metadata": {},
     "output_type": "execute_result"
    }
   ],
   "source": [
    "test_predictions=model12.predict(X_test_normalized).flatten()\n",
    "test_results=pd.DataFrame(data={\"Test Predictions\": test_predictions,\"Actuals\":y_test.flatten()})\n",
    "test_results[:30]"
   ]
  },
  {
   "cell_type": "code",
   "execution_count": 32,
   "id": "34d1259e",
   "metadata": {
    "scrolled": false
   },
   "outputs": [
    {
     "data": {
      "text/plain": [
       "<matplotlib.legend.Legend at 0x1b684a4cd30>"
      ]
     },
     "execution_count": 32,
     "metadata": {},
     "output_type": "execute_result"
    },
    {
     "data": {
      "image/png": "[encoded data removed]",
      "text/plain": [
       "<Figure size 640x480 with 1 Axes>"
      ]
     },
     "metadata": {},
     "output_type": "display_data"
    }
   ],
   "source": [
    "plt.plot(test_results[\"Actuals\"][:200])\n",
    "plt.plot(test_results[\"Test Predictions\"][:200])\n",
    "plt.legend(labels=[\"actual\", \"predict\"])"
   ]
  },
  {
   "cell_type": "code",
   "execution_count": 33,
   "id": "57720419",
   "metadata": {
    "scrolled": true
   },
   "outputs": [
    {
     "name": "stdout",
     "output_type": "stream",
     "text": [
      "Regression Metrics:\n",
      "MAE - Train: 0.2165830626112821\n",
      "MAE - Validation: 0.15148608886302745\n",
      "MAE - Test: 0.12009630797402027\n",
      "MSE - Train: 0.13284129280238086\n",
      "MSE - Validation: 0.13538063434001985\n",
      "MSE - Test: 0.09927225974450299\n",
      "RMSE - Train: 0.3644739946860144\n",
      "RMSE - Validation: 0.36794107454865627\n",
      "RMSE - Test: 0.31507500653733705\n",
      "R^2 Score - Train: 0.8591261509665982\n",
      "R^2 Score - Validation: 0.395617293555769\n",
      "R^2 Score - Test: 0.4538564344418421\n"
     ]
    }
   ],
   "source": [
    "from sklearn.metrics import mean_absolute_error, mean_squared_error, r2_score\n",
    "import numpy as np\n",
    "\n",
    "# Get the model's predictions\n",
    "y_train_pred = train_predictions\n",
    "y_val_pred = val_predictions\n",
    "y_test_pred =test_predictions\n",
    "\n",
    "# Calculate the regression metrics\n",
    "mae_train = mean_absolute_error(y_train, y_train_pred)\n",
    "mae_val = mean_absolute_error(y_val, y_val_pred)\n",
    "mae_test = mean_absolute_error(y_test, y_test_pred)\n",
    "\n",
    "mse_train = mean_squared_error(y_train, y_train_pred)\n",
    "mse_val = mean_squared_error(y_val, y_val_pred)\n",
    "mse_test = mean_squared_error(y_test, y_test_pred)\n",
    "\n",
    "rmse_train = np.sqrt(mse_train)\n",
    "rmse_val = np.sqrt(mse_val)\n",
    "rmse_test = np.sqrt(mse_test)\n",
    "\n",
    "r2_train = r2_score(y_train, y_train_pred)\n",
    "r2_val = r2_score(y_val, y_val_pred)\n",
    "r2_test = r2_score(y_test, y_test_pred)\n",
    "\n",
    "# Print the results\n",
    "print(\"Regression Metrics:\")\n",
    "print(\"MAE - Train:\", mae_train)\n",
    "print(\"MAE - Validation:\", mae_val)\n",
    "print(\"MAE - Test:\", mae_test)\n",
    "print(\"MSE - Train:\", mse_train)\n",
    "print(\"MSE - Validation:\", mse_val)\n",
    "print(\"MSE - Test:\", mse_test)\n",
    "print(\"RMSE - Train:\", rmse_train)\n",
    "print(\"RMSE - Validation:\", rmse_val)\n",
    "print(\"RMSE - Test:\", rmse_test)\n",
    "print(\"R^2 Score - Train:\", r2_train)\n",
    "print(\"R^2 Score - Validation:\", r2_val)\n",
    "print(\"R^2 Score - Test:\", r2_test)\n"
   ]
  },
  {
   "cell_type": "code",
   "execution_count": 35,
   "id": "e4c65c11",
   "metadata": {},
   "outputs": [
    {
     "data": {
      "text/plain": [
       "[DatetimeIndex(['2022-06-27 11:35:00', '2022-06-27 11:40:00',\n",
       "                '2022-06-27 11:45:00', '2022-06-27 11:55:00',\n",
       "                '2022-06-27 12:00:00', '2022-06-27 12:05:00',\n",
       "                '2022-06-27 12:15:00', '2022-06-27 12:50:00',\n",
       "                '2022-06-27 12:55:00', '2022-06-27 13:00:00',\n",
       "                ...\n",
       "                '2023-04-24 20:45:00', '2023-04-24 20:50:00',\n",
       "                '2023-04-24 20:55:00', '2023-04-24 21:00:00',\n",
       "                '2023-04-24 21:05:00', '2023-04-24 21:10:00',\n",
       "                '2023-04-24 21:15:00', '2023-04-24 21:20:00',\n",
       "                '2023-04-24 21:25:00', '2023-04-24 21:30:00'],\n",
       "               dtype='datetime64[ns]', name='time', length=58328, freq=None)]"
      ]
     },
     "execution_count": 35,
     "metadata": {},
     "output_type": "execute_result"
    }
   ],
   "source": [
    "df2_x.axes"
   ]
  },
  {
   "cell_type": "code",
   "execution_count": null,
   "id": "b3a88c87",
   "metadata": {},
   "outputs": [],
   "source": []
  }
 ],
 "metadata": {
  "kernelspec": {
   "display_name": "Python 3 (ipykernel)",
   "language": "python",
   "name": "python3"
  },
  "language_info": {
   "codemirror_mode": {
    "name": "ipython",
    "version": 3
   },
   "file_extension": ".py",
   "mimetype": "text/x-python",
   "name": "python",
   "nbconvert_exporter": "python",
   "pygments_lexer": "ipython3",
   "version": "3.10.9"
  }
 },
 "nbformat": 4,
 "nbformat_minor": 5
}
